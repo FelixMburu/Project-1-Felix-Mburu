{
  "nbformat": 4,
  "nbformat_minor": 0,
  "metadata": {
    "colab": {
      "provenance": []
    },
    "kernelspec": {
      "name": "python3",
      "display_name": "Python 3"
    },
    "language_info": {
      "name": "python"
    }
  },
  "cells": [
    {
      "cell_type": "markdown",
      "source": [
        "Student name: Felix Mburu Njoroge\n",
        "\n",
        "Data Science Part time 06\n",
        "\n",
        "\n",
        "Business problem\n",
        "\n",
        "Microsoft sees all the big companies creating original video content and they want to get in on the fun. They have decided to create a new movie studio, but they don’t know anything about creating movies.\n",
        "\n",
        "Objectives\n",
        "\n",
        "You are charged with exploring what types of films are currently doing the best at the box office.\n",
        "You must then translate those findings into actionable insights that the head of Microsoft's new movie studio can use to help decide what type of films to create.\n",
        "\n",
        "Questions to use using the data sets\n",
        "\n",
        "1. What are the most voted movies and highly rated movie types?\n",
        "2. What movie types have the highest average domestic gross and foreign gross income\n",
        "3. What movie types are highest rated overall.\n",
        "\n",
        "Data sets to use:\n",
        "\n",
        "imdb.title.basics\n",
        "\n",
        "imdb.title.ratings\n",
        "\n",
        "bom.movie_gross"
      ],
      "metadata": {
        "id": "dD2aWNqTJ-6g"
      }
    },
    {
      "cell_type": "markdown",
      "source": [
        "**DATA LOADING**"
      ],
      "metadata": {
        "id": "NJ5F-s-4WkpR"
      }
    },
    {
      "cell_type": "code",
      "execution_count": 1,
      "metadata": {
        "id": "gUpN4wiKGq70"
      },
      "outputs": [],
      "source": [
        "# import libraries\n",
        "import pandas as pd\n",
        "import numpy as np\n",
        "import matplotlib.pyplot as plt\n",
        "import seaborn as sns"
      ]
    },
    {
      "cell_type": "code",
      "source": [
        "# load the first data set with details on gross income\n",
        "df1 = pd.read_csv(\"/content/bom.movie_gross.csv\")"
      ],
      "metadata": {
        "id": "UyRDJ3oRRzPx"
      },
      "execution_count": 2,
      "outputs": []
    },
    {
      "cell_type": "code",
      "source": [
        "# data inspection\n",
        "print(df1.head())"
      ],
      "metadata": {
        "colab": {
          "base_uri": "https://localhost:8080/"
        },
        "id": "fj2kJrm8T0zd",
        "outputId": "1a1a3171-8bd7-47d4-b4a8-b6e85ee4e82c"
      },
      "execution_count": 3,
      "outputs": [
        {
          "output_type": "stream",
          "name": "stdout",
          "text": [
            "                                         title studio  domestic_gross  \\\n",
            "0                                  Toy Story 3     BV     415000000.0   \n",
            "1                   Alice in Wonderland (2010)     BV     334200000.0   \n",
            "2  Harry Potter and the Deathly Hallows Part 1     WB     296000000.0   \n",
            "3                                    Inception     WB     292600000.0   \n",
            "4                          Shrek Forever After   P/DW     238700000.0   \n",
            "\n",
            "  foreign_gross  year  \n",
            "0     652000000  2010  \n",
            "1     691300000  2010  \n",
            "2     664300000  2010  \n",
            "3     535700000  2010  \n",
            "4     513900000  2010  \n"
          ]
        }
      ]
    },
    {
      "cell_type": "code",
      "source": [
        "print(df1.info())"
      ],
      "metadata": {
        "colab": {
          "base_uri": "https://localhost:8080/"
        },
        "id": "g24aGSdPUNHM",
        "outputId": "eb0fb7ec-cf6f-4275-e908-ae5b0fbb4b3b"
      },
      "execution_count": 4,
      "outputs": [
        {
          "output_type": "stream",
          "name": "stdout",
          "text": [
            "<class 'pandas.core.frame.DataFrame'>\n",
            "RangeIndex: 3387 entries, 0 to 3386\n",
            "Data columns (total 5 columns):\n",
            " #   Column          Non-Null Count  Dtype  \n",
            "---  ------          --------------  -----  \n",
            " 0   title           3387 non-null   object \n",
            " 1   studio          3382 non-null   object \n",
            " 2   domestic_gross  3359 non-null   float64\n",
            " 3   foreign_gross   2037 non-null   object \n",
            " 4   year            3387 non-null   int64  \n",
            "dtypes: float64(1), int64(1), object(3)\n",
            "memory usage: 132.4+ KB\n",
            "None\n"
          ]
        }
      ]
    },
    {
      "cell_type": "code",
      "source": [
        "#load the 2nd data set title.basics.csv with details on runtime\n",
        "df2 = pd.read_csv('/content/title.basics.csv')"
      ],
      "metadata": {
        "id": "6DREWq9BVGQj"
      },
      "execution_count": 5,
      "outputs": []
    },
    {
      "cell_type": "code",
      "source": [],
      "metadata": {
        "id": "kD0MwqnVW_vU"
      },
      "execution_count": null,
      "outputs": []
    },
    {
      "cell_type": "markdown",
      "source": [
        "**DATA INSPECTION**"
      ],
      "metadata": {
        "id": "kDa7htOaW-kD"
      }
    },
    {
      "cell_type": "code",
      "source": [
        "# inspect\n",
        "print(df2.head())"
      ],
      "metadata": {
        "colab": {
          "base_uri": "https://localhost:8080/"
        },
        "id": "y5VjlFJKViSy",
        "outputId": "fc9dea4a-c12a-4703-d996-a02414b802c2"
      },
      "execution_count": 6,
      "outputs": [
        {
          "output_type": "stream",
          "name": "stdout",
          "text": [
            "      tconst                            title              original_title  \\\n",
            "0  tt0063540                        Sunghursh                   Sunghursh   \n",
            "1  tt0066787  One Day Before the Rainy Season             Ashad Ka Ek Din   \n",
            "2  tt0069049       The Other Side of the Wind  The Other Side of the Wind   \n",
            "3  tt0069204                  Sabse Bada Sukh             Sabse Bada Sukh   \n",
            "4  tt0100275         The Wandering Soap Opera       La Telenovela Errante   \n",
            "\n",
            "   start_year  runtime_minutes                genres  \n",
            "0      2013.0            175.0    Action,Crime,Drama  \n",
            "1      2019.0            114.0       Biography,Drama  \n",
            "2      2018.0            122.0                 Drama  \n",
            "3      2018.0              NaN          Comedy,Drama  \n",
            "4      2017.0             80.0  Comedy,Drama,Fantasy  \n"
          ]
        }
      ]
    },
    {
      "cell_type": "code",
      "source": [
        "print(df2.info())"
      ],
      "metadata": {
        "colab": {
          "base_uri": "https://localhost:8080/"
        },
        "id": "2hDjut9hVoMf",
        "outputId": "1a062016-2cb3-4f81-ab07-1aa8113f9ae2"
      },
      "execution_count": 7,
      "outputs": [
        {
          "output_type": "stream",
          "name": "stdout",
          "text": [
            "<class 'pandas.core.frame.DataFrame'>\n",
            "RangeIndex: 86878 entries, 0 to 86877\n",
            "Data columns (total 6 columns):\n",
            " #   Column           Non-Null Count  Dtype  \n",
            "---  ------           --------------  -----  \n",
            " 0   tconst           86878 non-null  object \n",
            " 1   title            86877 non-null  object \n",
            " 2   original_title   86869 non-null  object \n",
            " 3   start_year       86877 non-null  float64\n",
            " 4   runtime_minutes  72005 non-null  float64\n",
            " 5   genres           84630 non-null  object \n",
            "dtypes: float64(2), object(4)\n",
            "memory usage: 4.0+ MB\n",
            "None\n"
          ]
        }
      ]
    },
    {
      "cell_type": "code",
      "source": [
        "# load the third data set with rating and votes\n",
        "df3 =pd.read_csv('/content/title.ratings.csv')"
      ],
      "metadata": {
        "id": "adV7bk2-Vrgq"
      },
      "execution_count": 8,
      "outputs": []
    },
    {
      "cell_type": "code",
      "source": [
        "print(df3.head())"
      ],
      "metadata": {
        "colab": {
          "base_uri": "https://localhost:8080/"
        },
        "id": "jInV-7EIXIcG",
        "outputId": "8cae7302-d4b2-4fad-a677-1984f03411c3"
      },
      "execution_count": 9,
      "outputs": [
        {
          "output_type": "stream",
          "name": "stdout",
          "text": [
            "       tconst  averagerating  numvotes\n",
            "0  tt10356526            8.3        31\n",
            "1  tt10384606            8.9       559\n",
            "2   tt1042974            6.4        20\n",
            "3   tt1043726            4.2     50352\n",
            "4   tt1060240            6.5        21\n"
          ]
        }
      ]
    },
    {
      "cell_type": "code",
      "source": [
        "print(df3.info())"
      ],
      "metadata": {
        "colab": {
          "base_uri": "https://localhost:8080/"
        },
        "id": "BfqH_eM8XLcf",
        "outputId": "b5307185-5da8-4f2a-808c-816157cd45a9"
      },
      "execution_count": 10,
      "outputs": [
        {
          "output_type": "stream",
          "name": "stdout",
          "text": [
            "<class 'pandas.core.frame.DataFrame'>\n",
            "RangeIndex: 73856 entries, 0 to 73855\n",
            "Data columns (total 3 columns):\n",
            " #   Column         Non-Null Count  Dtype  \n",
            "---  ------         --------------  -----  \n",
            " 0   tconst         73856 non-null  object \n",
            " 1   averagerating  73856 non-null  float64\n",
            " 2   numvotes       73856 non-null  int64  \n",
            "dtypes: float64(1), int64(1), object(1)\n",
            "memory usage: 1.7+ MB\n",
            "None\n"
          ]
        }
      ]
    },
    {
      "cell_type": "code",
      "source": [
        "# merge datasets\n",
        "# merge df1 and df 2\n",
        "\n",
        "merged_df1 = pd.merge(df1, df2, on='title')\n",
        "merged_df1.head()"
      ],
      "metadata": {
        "colab": {
          "base_uri": "https://localhost:8080/",
          "height": 206
        },
        "id": "djNl85rtXN7T",
        "outputId": "71304142-34c9-460a-ecdf-763f227d8046"
      },
      "execution_count": 11,
      "outputs": [
        {
          "output_type": "execute_result",
          "data": {
            "text/plain": [
              "                        title studio  domestic_gross foreign_gross  year  \\\n",
              "0                 Toy Story 3     BV     415000000.0     652000000  2010   \n",
              "1                   Inception     WB     292600000.0     535700000  2010   \n",
              "2         Shrek Forever After   P/DW     238700000.0     513900000  2010   \n",
              "3  The Twilight Saga: Eclipse   Sum.     300500000.0     398000000  2010   \n",
              "4                  Iron Man 2   Par.     312400000.0     311500000  2010   \n",
              "\n",
              "      tconst              original_title  start_year  runtime_minutes  \\\n",
              "0  tt0435761                 Toy Story 3      2010.0            103.0   \n",
              "1  tt1375666                   Inception      2010.0            148.0   \n",
              "2  tt0892791         Shrek Forever After      2010.0             93.0   \n",
              "3  tt1325004  The Twilight Saga: Eclipse      2010.0            124.0   \n",
              "4  tt1228705                  Iron Man 2      2010.0            124.0   \n",
              "\n",
              "                       genres  \n",
              "0  Adventure,Animation,Comedy  \n",
              "1     Action,Adventure,Sci-Fi  \n",
              "2  Adventure,Animation,Comedy  \n",
              "3     Adventure,Drama,Fantasy  \n",
              "4     Action,Adventure,Sci-Fi  "
            ],
            "text/html": [
              "\n",
              "  <div id=\"df-11f5c20b-6a49-4c6e-af17-6a2c86aa6241\" class=\"colab-df-container\">\n",
              "    <div>\n",
              "<style scoped>\n",
              "    .dataframe tbody tr th:only-of-type {\n",
              "        vertical-align: middle;\n",
              "    }\n",
              "\n",
              "    .dataframe tbody tr th {\n",
              "        vertical-align: top;\n",
              "    }\n",
              "\n",
              "    .dataframe thead th {\n",
              "        text-align: right;\n",
              "    }\n",
              "</style>\n",
              "<table border=\"1\" class=\"dataframe\">\n",
              "  <thead>\n",
              "    <tr style=\"text-align: right;\">\n",
              "      <th></th>\n",
              "      <th>title</th>\n",
              "      <th>studio</th>\n",
              "      <th>domestic_gross</th>\n",
              "      <th>foreign_gross</th>\n",
              "      <th>year</th>\n",
              "      <th>tconst</th>\n",
              "      <th>original_title</th>\n",
              "      <th>start_year</th>\n",
              "      <th>runtime_minutes</th>\n",
              "      <th>genres</th>\n",
              "    </tr>\n",
              "  </thead>\n",
              "  <tbody>\n",
              "    <tr>\n",
              "      <th>0</th>\n",
              "      <td>Toy Story 3</td>\n",
              "      <td>BV</td>\n",
              "      <td>415000000.0</td>\n",
              "      <td>652000000</td>\n",
              "      <td>2010</td>\n",
              "      <td>tt0435761</td>\n",
              "      <td>Toy Story 3</td>\n",
              "      <td>2010.0</td>\n",
              "      <td>103.0</td>\n",
              "      <td>Adventure,Animation,Comedy</td>\n",
              "    </tr>\n",
              "    <tr>\n",
              "      <th>1</th>\n",
              "      <td>Inception</td>\n",
              "      <td>WB</td>\n",
              "      <td>292600000.0</td>\n",
              "      <td>535700000</td>\n",
              "      <td>2010</td>\n",
              "      <td>tt1375666</td>\n",
              "      <td>Inception</td>\n",
              "      <td>2010.0</td>\n",
              "      <td>148.0</td>\n",
              "      <td>Action,Adventure,Sci-Fi</td>\n",
              "    </tr>\n",
              "    <tr>\n",
              "      <th>2</th>\n",
              "      <td>Shrek Forever After</td>\n",
              "      <td>P/DW</td>\n",
              "      <td>238700000.0</td>\n",
              "      <td>513900000</td>\n",
              "      <td>2010</td>\n",
              "      <td>tt0892791</td>\n",
              "      <td>Shrek Forever After</td>\n",
              "      <td>2010.0</td>\n",
              "      <td>93.0</td>\n",
              "      <td>Adventure,Animation,Comedy</td>\n",
              "    </tr>\n",
              "    <tr>\n",
              "      <th>3</th>\n",
              "      <td>The Twilight Saga: Eclipse</td>\n",
              "      <td>Sum.</td>\n",
              "      <td>300500000.0</td>\n",
              "      <td>398000000</td>\n",
              "      <td>2010</td>\n",
              "      <td>tt1325004</td>\n",
              "      <td>The Twilight Saga: Eclipse</td>\n",
              "      <td>2010.0</td>\n",
              "      <td>124.0</td>\n",
              "      <td>Adventure,Drama,Fantasy</td>\n",
              "    </tr>\n",
              "    <tr>\n",
              "      <th>4</th>\n",
              "      <td>Iron Man 2</td>\n",
              "      <td>Par.</td>\n",
              "      <td>312400000.0</td>\n",
              "      <td>311500000</td>\n",
              "      <td>2010</td>\n",
              "      <td>tt1228705</td>\n",
              "      <td>Iron Man 2</td>\n",
              "      <td>2010.0</td>\n",
              "      <td>124.0</td>\n",
              "      <td>Action,Adventure,Sci-Fi</td>\n",
              "    </tr>\n",
              "  </tbody>\n",
              "</table>\n",
              "</div>\n",
              "    <div class=\"colab-df-buttons\">\n",
              "\n",
              "  <div class=\"colab-df-container\">\n",
              "    <button class=\"colab-df-convert\" onclick=\"convertToInteractive('df-11f5c20b-6a49-4c6e-af17-6a2c86aa6241')\"\n",
              "            title=\"Convert this dataframe to an interactive table.\"\n",
              "            style=\"display:none;\">\n",
              "\n",
              "  <svg xmlns=\"http://www.w3.org/2000/svg\" height=\"24px\" viewBox=\"0 -960 960 960\">\n",
              "    <path d=\"M120-120v-720h720v720H120Zm60-500h600v-160H180v160Zm220 220h160v-160H400v160Zm0 220h160v-160H400v160ZM180-400h160v-160H180v160Zm440 0h160v-160H620v160ZM180-180h160v-160H180v160Zm440 0h160v-160H620v160Z\"/>\n",
              "  </svg>\n",
              "    </button>\n",
              "\n",
              "  <style>\n",
              "    .colab-df-container {\n",
              "      display:flex;\n",
              "      gap: 12px;\n",
              "    }\n",
              "\n",
              "    .colab-df-convert {\n",
              "      background-color: #E8F0FE;\n",
              "      border: none;\n",
              "      border-radius: 50%;\n",
              "      cursor: pointer;\n",
              "      display: none;\n",
              "      fill: #1967D2;\n",
              "      height: 32px;\n",
              "      padding: 0 0 0 0;\n",
              "      width: 32px;\n",
              "    }\n",
              "\n",
              "    .colab-df-convert:hover {\n",
              "      background-color: #E2EBFA;\n",
              "      box-shadow: 0px 1px 2px rgba(60, 64, 67, 0.3), 0px 1px 3px 1px rgba(60, 64, 67, 0.15);\n",
              "      fill: #174EA6;\n",
              "    }\n",
              "\n",
              "    .colab-df-buttons div {\n",
              "      margin-bottom: 4px;\n",
              "    }\n",
              "\n",
              "    [theme=dark] .colab-df-convert {\n",
              "      background-color: #3B4455;\n",
              "      fill: #D2E3FC;\n",
              "    }\n",
              "\n",
              "    [theme=dark] .colab-df-convert:hover {\n",
              "      background-color: #434B5C;\n",
              "      box-shadow: 0px 1px 3px 1px rgba(0, 0, 0, 0.15);\n",
              "      filter: drop-shadow(0px 1px 2px rgba(0, 0, 0, 0.3));\n",
              "      fill: #FFFFFF;\n",
              "    }\n",
              "  </style>\n",
              "\n",
              "    <script>\n",
              "      const buttonEl =\n",
              "        document.querySelector('#df-11f5c20b-6a49-4c6e-af17-6a2c86aa6241 button.colab-df-convert');\n",
              "      buttonEl.style.display =\n",
              "        google.colab.kernel.accessAllowed ? 'block' : 'none';\n",
              "\n",
              "      async function convertToInteractive(key) {\n",
              "        const element = document.querySelector('#df-11f5c20b-6a49-4c6e-af17-6a2c86aa6241');\n",
              "        const dataTable =\n",
              "          await google.colab.kernel.invokeFunction('convertToInteractive',\n",
              "                                                    [key], {});\n",
              "        if (!dataTable) return;\n",
              "\n",
              "        const docLinkHtml = 'Like what you see? Visit the ' +\n",
              "          '<a target=\"_blank\" href=https://colab.research.google.com/notebooks/data_table.ipynb>data table notebook</a>'\n",
              "          + ' to learn more about interactive tables.';\n",
              "        element.innerHTML = '';\n",
              "        dataTable['output_type'] = 'display_data';\n",
              "        await google.colab.output.renderOutput(dataTable, element);\n",
              "        const docLink = document.createElement('div');\n",
              "        docLink.innerHTML = docLinkHtml;\n",
              "        element.appendChild(docLink);\n",
              "      }\n",
              "    </script>\n",
              "  </div>\n",
              "\n",
              "\n",
              "<div id=\"df-eaf8751a-1125-4d8f-82ff-8e25de26d94c\">\n",
              "  <button class=\"colab-df-quickchart\" onclick=\"quickchart('df-eaf8751a-1125-4d8f-82ff-8e25de26d94c')\"\n",
              "            title=\"Suggest charts\"\n",
              "            style=\"display:none;\">\n",
              "\n",
              "<svg xmlns=\"http://www.w3.org/2000/svg\" height=\"24px\"viewBox=\"0 0 24 24\"\n",
              "     width=\"24px\">\n",
              "    <g>\n",
              "        <path d=\"M19 3H5c-1.1 0-2 .9-2 2v14c0 1.1.9 2 2 2h14c1.1 0 2-.9 2-2V5c0-1.1-.9-2-2-2zM9 17H7v-7h2v7zm4 0h-2V7h2v10zm4 0h-2v-4h2v4z\"/>\n",
              "    </g>\n",
              "</svg>\n",
              "  </button>\n",
              "\n",
              "<style>\n",
              "  .colab-df-quickchart {\n",
              "      --bg-color: #E8F0FE;\n",
              "      --fill-color: #1967D2;\n",
              "      --hover-bg-color: #E2EBFA;\n",
              "      --hover-fill-color: #174EA6;\n",
              "      --disabled-fill-color: #AAA;\n",
              "      --disabled-bg-color: #DDD;\n",
              "  }\n",
              "\n",
              "  [theme=dark] .colab-df-quickchart {\n",
              "      --bg-color: #3B4455;\n",
              "      --fill-color: #D2E3FC;\n",
              "      --hover-bg-color: #434B5C;\n",
              "      --hover-fill-color: #FFFFFF;\n",
              "      --disabled-bg-color: #3B4455;\n",
              "      --disabled-fill-color: #666;\n",
              "  }\n",
              "\n",
              "  .colab-df-quickchart {\n",
              "    background-color: var(--bg-color);\n",
              "    border: none;\n",
              "    border-radius: 50%;\n",
              "    cursor: pointer;\n",
              "    display: none;\n",
              "    fill: var(--fill-color);\n",
              "    height: 32px;\n",
              "    padding: 0;\n",
              "    width: 32px;\n",
              "  }\n",
              "\n",
              "  .colab-df-quickchart:hover {\n",
              "    background-color: var(--hover-bg-color);\n",
              "    box-shadow: 0 1px 2px rgba(60, 64, 67, 0.3), 0 1px 3px 1px rgba(60, 64, 67, 0.15);\n",
              "    fill: var(--button-hover-fill-color);\n",
              "  }\n",
              "\n",
              "  .colab-df-quickchart-complete:disabled,\n",
              "  .colab-df-quickchart-complete:disabled:hover {\n",
              "    background-color: var(--disabled-bg-color);\n",
              "    fill: var(--disabled-fill-color);\n",
              "    box-shadow: none;\n",
              "  }\n",
              "\n",
              "  .colab-df-spinner {\n",
              "    border: 2px solid var(--fill-color);\n",
              "    border-color: transparent;\n",
              "    border-bottom-color: var(--fill-color);\n",
              "    animation:\n",
              "      spin 1s steps(1) infinite;\n",
              "  }\n",
              "\n",
              "  @keyframes spin {\n",
              "    0% {\n",
              "      border-color: transparent;\n",
              "      border-bottom-color: var(--fill-color);\n",
              "      border-left-color: var(--fill-color);\n",
              "    }\n",
              "    20% {\n",
              "      border-color: transparent;\n",
              "      border-left-color: var(--fill-color);\n",
              "      border-top-color: var(--fill-color);\n",
              "    }\n",
              "    30% {\n",
              "      border-color: transparent;\n",
              "      border-left-color: var(--fill-color);\n",
              "      border-top-color: var(--fill-color);\n",
              "      border-right-color: var(--fill-color);\n",
              "    }\n",
              "    40% {\n",
              "      border-color: transparent;\n",
              "      border-right-color: var(--fill-color);\n",
              "      border-top-color: var(--fill-color);\n",
              "    }\n",
              "    60% {\n",
              "      border-color: transparent;\n",
              "      border-right-color: var(--fill-color);\n",
              "    }\n",
              "    80% {\n",
              "      border-color: transparent;\n",
              "      border-right-color: var(--fill-color);\n",
              "      border-bottom-color: var(--fill-color);\n",
              "    }\n",
              "    90% {\n",
              "      border-color: transparent;\n",
              "      border-bottom-color: var(--fill-color);\n",
              "    }\n",
              "  }\n",
              "</style>\n",
              "\n",
              "  <script>\n",
              "    async function quickchart(key) {\n",
              "      const quickchartButtonEl =\n",
              "        document.querySelector('#' + key + ' button');\n",
              "      quickchartButtonEl.disabled = true;  // To prevent multiple clicks.\n",
              "      quickchartButtonEl.classList.add('colab-df-spinner');\n",
              "      try {\n",
              "        const charts = await google.colab.kernel.invokeFunction(\n",
              "            'suggestCharts', [key], {});\n",
              "      } catch (error) {\n",
              "        console.error('Error during call to suggestCharts:', error);\n",
              "      }\n",
              "      quickchartButtonEl.classList.remove('colab-df-spinner');\n",
              "      quickchartButtonEl.classList.add('colab-df-quickchart-complete');\n",
              "    }\n",
              "    (() => {\n",
              "      let quickchartButtonEl =\n",
              "        document.querySelector('#df-eaf8751a-1125-4d8f-82ff-8e25de26d94c button');\n",
              "      quickchartButtonEl.style.display =\n",
              "        google.colab.kernel.accessAllowed ? 'block' : 'none';\n",
              "    })();\n",
              "  </script>\n",
              "</div>\n",
              "\n",
              "    </div>\n",
              "  </div>\n"
            ],
            "application/vnd.google.colaboratory.intrinsic+json": {
              "type": "dataframe",
              "variable_name": "merged_df1",
              "summary": "{\n  \"name\": \"merged_df1\",\n  \"rows\": 2745,\n  \"fields\": [\n    {\n      \"column\": \"title\",\n      \"properties\": {\n        \"dtype\": \"string\",\n        \"samples\": [\n          \"John Wick\",\n          \"Colossal\",\n          \"The Witch\"\n        ],\n        \"num_unique_values\": 2322,\n        \"semantic_type\": \"\",\n        \"description\": \"\"\n      }\n    },\n    {\n      \"column\": \"studio\",\n      \"properties\": {\n        \"dtype\": \"category\",\n        \"samples\": [\n          \"EOne\",\n          \"Focus\",\n          \"Drft.\"\n        ],\n        \"num_unique_values\": 201,\n        \"semantic_type\": \"\",\n        \"description\": \"\"\n      }\n    },\n    {\n      \"column\": \"domestic_gross\",\n      \"properties\": {\n        \"dtype\": \"number\",\n        \"std\": 69274616.36883715,\n        \"min\": 100.0,\n        \"max\": 700100000.0,\n        \"samples\": [\n          11200.0,\n          13300.0,\n          468000.0\n        ],\n        \"num_unique_values\": 1415,\n        \"semantic_type\": \"\",\n        \"description\": \"\"\n      }\n    },\n    {\n      \"column\": \"foreign_gross\",\n      \"properties\": {\n        \"dtype\": \"category\",\n        \"samples\": [\n          \"6500000\",\n          \"177600000\",\n          \"1300000\"\n        ],\n        \"num_unique_values\": 947,\n        \"semantic_type\": \"\",\n        \"description\": \"\"\n      }\n    },\n    {\n      \"column\": \"year\",\n      \"properties\": {\n        \"dtype\": \"number\",\n        \"std\": 2,\n        \"min\": 2010,\n        \"max\": 2018,\n        \"samples\": [\n          2016,\n          2017,\n          2014\n        ],\n        \"num_unique_values\": 9,\n        \"semantic_type\": \"\",\n        \"description\": \"\"\n      }\n    },\n    {\n      \"column\": \"tconst\",\n      \"properties\": {\n        \"dtype\": \"string\",\n        \"samples\": [\n          \"tt1971352\",\n          \"tt3554418\",\n          \"tt1086772\"\n        ],\n        \"num_unique_values\": 2744,\n        \"semantic_type\": \"\",\n        \"description\": \"\"\n      }\n    },\n    {\n      \"column\": \"original_title\",\n      \"properties\": {\n        \"dtype\": \"string\",\n        \"samples\": [\n          \"Spy\",\n          \"Kongen av Bast\\u00f8y\",\n          \"Let's Be Cops\"\n        ],\n        \"num_unique_values\": 2426,\n        \"semantic_type\": \"\",\n        \"description\": \"\"\n      }\n    },\n    {\n      \"column\": \"start_year\",\n      \"properties\": {\n        \"dtype\": \"number\",\n        \"std\": 2.2504595011109174,\n        \"min\": 2010.0,\n        \"max\": 2020.0,\n        \"samples\": [\n          2015.0,\n          2010.0,\n          2017.0\n        ],\n        \"num_unique_values\": 11,\n        \"semantic_type\": \"\",\n        \"description\": \"\"\n      }\n    },\n    {\n      \"column\": \"runtime_minutes\",\n      \"properties\": {\n        \"dtype\": \"number\",\n        \"std\": 21.61712362671391,\n        \"min\": 3.0,\n        \"max\": 272.0,\n        \"samples\": [\n          90.0,\n          46.0,\n          91.0\n        ],\n        \"num_unique_values\": 146,\n        \"semantic_type\": \"\",\n        \"description\": \"\"\n      }\n    },\n    {\n      \"column\": \"genres\",\n      \"properties\": {\n        \"dtype\": \"category\",\n        \"samples\": [\n          \"Action,History\",\n          \"Biography,Drama,Thriller\",\n          \"Action,Adventure,Comedy\"\n        ],\n        \"num_unique_values\": 306,\n        \"semantic_type\": \"\",\n        \"description\": \"\"\n      }\n    }\n  ]\n}"
            }
          },
          "metadata": {},
          "execution_count": 11
        }
      ]
    },
    {
      "cell_type": "code",
      "source": [
        "#merge the newly merged data frame to df3\n",
        "all_merged_df = pd.merge(merged_df1, df3, on = 'tconst')\n",
        "all_merged_df.head()"
      ],
      "metadata": {
        "colab": {
          "base_uri": "https://localhost:8080/",
          "height": 347
        },
        "id": "WS5vpBoBcRCo",
        "outputId": "0ce2d5a1-6dc7-41c5-f848-033ef9a932f9"
      },
      "execution_count": 12,
      "outputs": [
        {
          "output_type": "execute_result",
          "data": {
            "text/plain": [
              "                        title studio  domestic_gross foreign_gross  year  \\\n",
              "0                 Toy Story 3     BV     415000000.0     652000000  2010   \n",
              "1                   Inception     WB     292600000.0     535700000  2010   \n",
              "2         Shrek Forever After   P/DW     238700000.0     513900000  2010   \n",
              "3  The Twilight Saga: Eclipse   Sum.     300500000.0     398000000  2010   \n",
              "4                  Iron Man 2   Par.     312400000.0     311500000  2010   \n",
              "\n",
              "      tconst              original_title  start_year  runtime_minutes  \\\n",
              "0  tt0435761                 Toy Story 3      2010.0            103.0   \n",
              "1  tt1375666                   Inception      2010.0            148.0   \n",
              "2  tt0892791         Shrek Forever After      2010.0             93.0   \n",
              "3  tt1325004  The Twilight Saga: Eclipse      2010.0            124.0   \n",
              "4  tt1228705                  Iron Man 2      2010.0            124.0   \n",
              "\n",
              "                       genres  averagerating  numvotes  \n",
              "0  Adventure,Animation,Comedy            8.3    682218  \n",
              "1     Action,Adventure,Sci-Fi            8.8   1841066  \n",
              "2  Adventure,Animation,Comedy            6.3    167532  \n",
              "3     Adventure,Drama,Fantasy            5.0    211733  \n",
              "4     Action,Adventure,Sci-Fi            7.0    657690  "
            ],
            "text/html": [
              "\n",
              "  <div id=\"df-3e95f66f-6dbd-4e8a-a775-0b88e73697f2\" class=\"colab-df-container\">\n",
              "    <div>\n",
              "<style scoped>\n",
              "    .dataframe tbody tr th:only-of-type {\n",
              "        vertical-align: middle;\n",
              "    }\n",
              "\n",
              "    .dataframe tbody tr th {\n",
              "        vertical-align: top;\n",
              "    }\n",
              "\n",
              "    .dataframe thead th {\n",
              "        text-align: right;\n",
              "    }\n",
              "</style>\n",
              "<table border=\"1\" class=\"dataframe\">\n",
              "  <thead>\n",
              "    <tr style=\"text-align: right;\">\n",
              "      <th></th>\n",
              "      <th>title</th>\n",
              "      <th>studio</th>\n",
              "      <th>domestic_gross</th>\n",
              "      <th>foreign_gross</th>\n",
              "      <th>year</th>\n",
              "      <th>tconst</th>\n",
              "      <th>original_title</th>\n",
              "      <th>start_year</th>\n",
              "      <th>runtime_minutes</th>\n",
              "      <th>genres</th>\n",
              "      <th>averagerating</th>\n",
              "      <th>numvotes</th>\n",
              "    </tr>\n",
              "  </thead>\n",
              "  <tbody>\n",
              "    <tr>\n",
              "      <th>0</th>\n",
              "      <td>Toy Story 3</td>\n",
              "      <td>BV</td>\n",
              "      <td>415000000.0</td>\n",
              "      <td>652000000</td>\n",
              "      <td>2010</td>\n",
              "      <td>tt0435761</td>\n",
              "      <td>Toy Story 3</td>\n",
              "      <td>2010.0</td>\n",
              "      <td>103.0</td>\n",
              "      <td>Adventure,Animation,Comedy</td>\n",
              "      <td>8.3</td>\n",
              "      <td>682218</td>\n",
              "    </tr>\n",
              "    <tr>\n",
              "      <th>1</th>\n",
              "      <td>Inception</td>\n",
              "      <td>WB</td>\n",
              "      <td>292600000.0</td>\n",
              "      <td>535700000</td>\n",
              "      <td>2010</td>\n",
              "      <td>tt1375666</td>\n",
              "      <td>Inception</td>\n",
              "      <td>2010.0</td>\n",
              "      <td>148.0</td>\n",
              "      <td>Action,Adventure,Sci-Fi</td>\n",
              "      <td>8.8</td>\n",
              "      <td>1841066</td>\n",
              "    </tr>\n",
              "    <tr>\n",
              "      <th>2</th>\n",
              "      <td>Shrek Forever After</td>\n",
              "      <td>P/DW</td>\n",
              "      <td>238700000.0</td>\n",
              "      <td>513900000</td>\n",
              "      <td>2010</td>\n",
              "      <td>tt0892791</td>\n",
              "      <td>Shrek Forever After</td>\n",
              "      <td>2010.0</td>\n",
              "      <td>93.0</td>\n",
              "      <td>Adventure,Animation,Comedy</td>\n",
              "      <td>6.3</td>\n",
              "      <td>167532</td>\n",
              "    </tr>\n",
              "    <tr>\n",
              "      <th>3</th>\n",
              "      <td>The Twilight Saga: Eclipse</td>\n",
              "      <td>Sum.</td>\n",
              "      <td>300500000.0</td>\n",
              "      <td>398000000</td>\n",
              "      <td>2010</td>\n",
              "      <td>tt1325004</td>\n",
              "      <td>The Twilight Saga: Eclipse</td>\n",
              "      <td>2010.0</td>\n",
              "      <td>124.0</td>\n",
              "      <td>Adventure,Drama,Fantasy</td>\n",
              "      <td>5.0</td>\n",
              "      <td>211733</td>\n",
              "    </tr>\n",
              "    <tr>\n",
              "      <th>4</th>\n",
              "      <td>Iron Man 2</td>\n",
              "      <td>Par.</td>\n",
              "      <td>312400000.0</td>\n",
              "      <td>311500000</td>\n",
              "      <td>2010</td>\n",
              "      <td>tt1228705</td>\n",
              "      <td>Iron Man 2</td>\n",
              "      <td>2010.0</td>\n",
              "      <td>124.0</td>\n",
              "      <td>Action,Adventure,Sci-Fi</td>\n",
              "      <td>7.0</td>\n",
              "      <td>657690</td>\n",
              "    </tr>\n",
              "  </tbody>\n",
              "</table>\n",
              "</div>\n",
              "    <div class=\"colab-df-buttons\">\n",
              "\n",
              "  <div class=\"colab-df-container\">\n",
              "    <button class=\"colab-df-convert\" onclick=\"convertToInteractive('df-3e95f66f-6dbd-4e8a-a775-0b88e73697f2')\"\n",
              "            title=\"Convert this dataframe to an interactive table.\"\n",
              "            style=\"display:none;\">\n",
              "\n",
              "  <svg xmlns=\"http://www.w3.org/2000/svg\" height=\"24px\" viewBox=\"0 -960 960 960\">\n",
              "    <path d=\"M120-120v-720h720v720H120Zm60-500h600v-160H180v160Zm220 220h160v-160H400v160Zm0 220h160v-160H400v160ZM180-400h160v-160H180v160Zm440 0h160v-160H620v160ZM180-180h160v-160H180v160Zm440 0h160v-160H620v160Z\"/>\n",
              "  </svg>\n",
              "    </button>\n",
              "\n",
              "  <style>\n",
              "    .colab-df-container {\n",
              "      display:flex;\n",
              "      gap: 12px;\n",
              "    }\n",
              "\n",
              "    .colab-df-convert {\n",
              "      background-color: #E8F0FE;\n",
              "      border: none;\n",
              "      border-radius: 50%;\n",
              "      cursor: pointer;\n",
              "      display: none;\n",
              "      fill: #1967D2;\n",
              "      height: 32px;\n",
              "      padding: 0 0 0 0;\n",
              "      width: 32px;\n",
              "    }\n",
              "\n",
              "    .colab-df-convert:hover {\n",
              "      background-color: #E2EBFA;\n",
              "      box-shadow: 0px 1px 2px rgba(60, 64, 67, 0.3), 0px 1px 3px 1px rgba(60, 64, 67, 0.15);\n",
              "      fill: #174EA6;\n",
              "    }\n",
              "\n",
              "    .colab-df-buttons div {\n",
              "      margin-bottom: 4px;\n",
              "    }\n",
              "\n",
              "    [theme=dark] .colab-df-convert {\n",
              "      background-color: #3B4455;\n",
              "      fill: #D2E3FC;\n",
              "    }\n",
              "\n",
              "    [theme=dark] .colab-df-convert:hover {\n",
              "      background-color: #434B5C;\n",
              "      box-shadow: 0px 1px 3px 1px rgba(0, 0, 0, 0.15);\n",
              "      filter: drop-shadow(0px 1px 2px rgba(0, 0, 0, 0.3));\n",
              "      fill: #FFFFFF;\n",
              "    }\n",
              "  </style>\n",
              "\n",
              "    <script>\n",
              "      const buttonEl =\n",
              "        document.querySelector('#df-3e95f66f-6dbd-4e8a-a775-0b88e73697f2 button.colab-df-convert');\n",
              "      buttonEl.style.display =\n",
              "        google.colab.kernel.accessAllowed ? 'block' : 'none';\n",
              "\n",
              "      async function convertToInteractive(key) {\n",
              "        const element = document.querySelector('#df-3e95f66f-6dbd-4e8a-a775-0b88e73697f2');\n",
              "        const dataTable =\n",
              "          await google.colab.kernel.invokeFunction('convertToInteractive',\n",
              "                                                    [key], {});\n",
              "        if (!dataTable) return;\n",
              "\n",
              "        const docLinkHtml = 'Like what you see? Visit the ' +\n",
              "          '<a target=\"_blank\" href=https://colab.research.google.com/notebooks/data_table.ipynb>data table notebook</a>'\n",
              "          + ' to learn more about interactive tables.';\n",
              "        element.innerHTML = '';\n",
              "        dataTable['output_type'] = 'display_data';\n",
              "        await google.colab.output.renderOutput(dataTable, element);\n",
              "        const docLink = document.createElement('div');\n",
              "        docLink.innerHTML = docLinkHtml;\n",
              "        element.appendChild(docLink);\n",
              "      }\n",
              "    </script>\n",
              "  </div>\n",
              "\n",
              "\n",
              "<div id=\"df-e3c09118-49a4-42c9-8d18-9fd333e0c7b1\">\n",
              "  <button class=\"colab-df-quickchart\" onclick=\"quickchart('df-e3c09118-49a4-42c9-8d18-9fd333e0c7b1')\"\n",
              "            title=\"Suggest charts\"\n",
              "            style=\"display:none;\">\n",
              "\n",
              "<svg xmlns=\"http://www.w3.org/2000/svg\" height=\"24px\"viewBox=\"0 0 24 24\"\n",
              "     width=\"24px\">\n",
              "    <g>\n",
              "        <path d=\"M19 3H5c-1.1 0-2 .9-2 2v14c0 1.1.9 2 2 2h14c1.1 0 2-.9 2-2V5c0-1.1-.9-2-2-2zM9 17H7v-7h2v7zm4 0h-2V7h2v10zm4 0h-2v-4h2v4z\"/>\n",
              "    </g>\n",
              "</svg>\n",
              "  </button>\n",
              "\n",
              "<style>\n",
              "  .colab-df-quickchart {\n",
              "      --bg-color: #E8F0FE;\n",
              "      --fill-color: #1967D2;\n",
              "      --hover-bg-color: #E2EBFA;\n",
              "      --hover-fill-color: #174EA6;\n",
              "      --disabled-fill-color: #AAA;\n",
              "      --disabled-bg-color: #DDD;\n",
              "  }\n",
              "\n",
              "  [theme=dark] .colab-df-quickchart {\n",
              "      --bg-color: #3B4455;\n",
              "      --fill-color: #D2E3FC;\n",
              "      --hover-bg-color: #434B5C;\n",
              "      --hover-fill-color: #FFFFFF;\n",
              "      --disabled-bg-color: #3B4455;\n",
              "      --disabled-fill-color: #666;\n",
              "  }\n",
              "\n",
              "  .colab-df-quickchart {\n",
              "    background-color: var(--bg-color);\n",
              "    border: none;\n",
              "    border-radius: 50%;\n",
              "    cursor: pointer;\n",
              "    display: none;\n",
              "    fill: var(--fill-color);\n",
              "    height: 32px;\n",
              "    padding: 0;\n",
              "    width: 32px;\n",
              "  }\n",
              "\n",
              "  .colab-df-quickchart:hover {\n",
              "    background-color: var(--hover-bg-color);\n",
              "    box-shadow: 0 1px 2px rgba(60, 64, 67, 0.3), 0 1px 3px 1px rgba(60, 64, 67, 0.15);\n",
              "    fill: var(--button-hover-fill-color);\n",
              "  }\n",
              "\n",
              "  .colab-df-quickchart-complete:disabled,\n",
              "  .colab-df-quickchart-complete:disabled:hover {\n",
              "    background-color: var(--disabled-bg-color);\n",
              "    fill: var(--disabled-fill-color);\n",
              "    box-shadow: none;\n",
              "  }\n",
              "\n",
              "  .colab-df-spinner {\n",
              "    border: 2px solid var(--fill-color);\n",
              "    border-color: transparent;\n",
              "    border-bottom-color: var(--fill-color);\n",
              "    animation:\n",
              "      spin 1s steps(1) infinite;\n",
              "  }\n",
              "\n",
              "  @keyframes spin {\n",
              "    0% {\n",
              "      border-color: transparent;\n",
              "      border-bottom-color: var(--fill-color);\n",
              "      border-left-color: var(--fill-color);\n",
              "    }\n",
              "    20% {\n",
              "      border-color: transparent;\n",
              "      border-left-color: var(--fill-color);\n",
              "      border-top-color: var(--fill-color);\n",
              "    }\n",
              "    30% {\n",
              "      border-color: transparent;\n",
              "      border-left-color: var(--fill-color);\n",
              "      border-top-color: var(--fill-color);\n",
              "      border-right-color: var(--fill-color);\n",
              "    }\n",
              "    40% {\n",
              "      border-color: transparent;\n",
              "      border-right-color: var(--fill-color);\n",
              "      border-top-color: var(--fill-color);\n",
              "    }\n",
              "    60% {\n",
              "      border-color: transparent;\n",
              "      border-right-color: var(--fill-color);\n",
              "    }\n",
              "    80% {\n",
              "      border-color: transparent;\n",
              "      border-right-color: var(--fill-color);\n",
              "      border-bottom-color: var(--fill-color);\n",
              "    }\n",
              "    90% {\n",
              "      border-color: transparent;\n",
              "      border-bottom-color: var(--fill-color);\n",
              "    }\n",
              "  }\n",
              "</style>\n",
              "\n",
              "  <script>\n",
              "    async function quickchart(key) {\n",
              "      const quickchartButtonEl =\n",
              "        document.querySelector('#' + key + ' button');\n",
              "      quickchartButtonEl.disabled = true;  // To prevent multiple clicks.\n",
              "      quickchartButtonEl.classList.add('colab-df-spinner');\n",
              "      try {\n",
              "        const charts = await google.colab.kernel.invokeFunction(\n",
              "            'suggestCharts', [key], {});\n",
              "      } catch (error) {\n",
              "        console.error('Error during call to suggestCharts:', error);\n",
              "      }\n",
              "      quickchartButtonEl.classList.remove('colab-df-spinner');\n",
              "      quickchartButtonEl.classList.add('colab-df-quickchart-complete');\n",
              "    }\n",
              "    (() => {\n",
              "      let quickchartButtonEl =\n",
              "        document.querySelector('#df-e3c09118-49a4-42c9-8d18-9fd333e0c7b1 button');\n",
              "      quickchartButtonEl.style.display =\n",
              "        google.colab.kernel.accessAllowed ? 'block' : 'none';\n",
              "    })();\n",
              "  </script>\n",
              "</div>\n",
              "\n",
              "    </div>\n",
              "  </div>\n"
            ],
            "application/vnd.google.colaboratory.intrinsic+json": {
              "type": "dataframe",
              "variable_name": "all_merged_df",
              "summary": "{\n  \"name\": \"all_merged_df\",\n  \"rows\": 2597,\n  \"fields\": [\n    {\n      \"column\": \"title\",\n      \"properties\": {\n        \"dtype\": \"string\",\n        \"samples\": [\n          \"Kon-Tiki\",\n          \"The Pirates! Band of Misfits\",\n          \"The Losers\"\n        ],\n        \"num_unique_values\": 2316,\n        \"semantic_type\": \"\",\n        \"description\": \"\"\n      }\n    },\n    {\n      \"column\": \"studio\",\n      \"properties\": {\n        \"dtype\": \"category\",\n        \"samples\": [\n          \"LD\",\n          \"Focus\",\n          \"Drft.\"\n        ],\n        \"num_unique_values\": 201,\n        \"semantic_type\": \"\",\n        \"description\": \"\"\n      }\n    },\n    {\n      \"column\": \"domestic_gross\",\n      \"properties\": {\n        \"dtype\": \"number\",\n        \"std\": 70082898.64876296,\n        \"min\": 100.0,\n        \"max\": 700100000.0,\n        \"samples\": [\n          6200000.0,\n          32500000.0,\n          6300.0\n        ],\n        \"num_unique_values\": 1412,\n        \"semantic_type\": \"\",\n        \"description\": \"\"\n      }\n    },\n    {\n      \"column\": \"foreign_gross\",\n      \"properties\": {\n        \"dtype\": \"category\",\n        \"samples\": [\n          \"6700000\",\n          \"3200000\",\n          \"108100000\"\n        ],\n        \"num_unique_values\": 944,\n        \"semantic_type\": \"\",\n        \"description\": \"\"\n      }\n    },\n    {\n      \"column\": \"year\",\n      \"properties\": {\n        \"dtype\": \"number\",\n        \"std\": 2,\n        \"min\": 2010,\n        \"max\": 2018,\n        \"samples\": [\n          2016,\n          2017,\n          2014\n        ],\n        \"num_unique_values\": 9,\n        \"semantic_type\": \"\",\n        \"description\": \"\"\n      }\n    },\n    {\n      \"column\": \"tconst\",\n      \"properties\": {\n        \"dtype\": \"string\",\n        \"samples\": [\n          \"tt1638362\",\n          \"tt4034354\",\n          \"tt3065132\"\n        ],\n        \"num_unique_values\": 2596,\n        \"semantic_type\": \"\",\n        \"description\": \"\"\n      }\n    },\n    {\n      \"column\": \"original_title\",\n      \"properties\": {\n        \"dtype\": \"string\",\n        \"samples\": [\n          \"Choi-jong-byeong-gi hwal\",\n          \"Colossal\",\n          \"Shirin Farhad Ki Toh Nikal Padi\"\n        ],\n        \"num_unique_values\": 2404,\n        \"semantic_type\": \"\",\n        \"description\": \"\"\n      }\n    },\n    {\n      \"column\": \"start_year\",\n      \"properties\": {\n        \"dtype\": \"number\",\n        \"std\": 2.2094410482814295,\n        \"min\": 2010.0,\n        \"max\": 2019.0,\n        \"samples\": [\n          2017.0,\n          2013.0,\n          2016.0\n        ],\n        \"num_unique_values\": 10,\n        \"semantic_type\": \"\",\n        \"description\": \"\"\n      }\n    },\n    {\n      \"column\": \"runtime_minutes\",\n      \"properties\": {\n        \"dtype\": \"number\",\n        \"std\": 19.854739664827378,\n        \"min\": 3.0,\n        \"max\": 272.0,\n        \"samples\": [\n          84.0,\n          94.0,\n          120.0\n        ],\n        \"num_unique_values\": 131,\n        \"semantic_type\": \"\",\n        \"description\": \"\"\n      }\n    },\n    {\n      \"column\": \"genres\",\n      \"properties\": {\n        \"dtype\": \"category\",\n        \"samples\": [\n          \"Drama,History,Romance\",\n          \"Action,Adventure,Mystery\",\n          \"Adventure,Comedy,Sci-Fi\"\n        ],\n        \"num_unique_values\": 302,\n        \"semantic_type\": \"\",\n        \"description\": \"\"\n      }\n    },\n    {\n      \"column\": \"averagerating\",\n      \"properties\": {\n        \"dtype\": \"number\",\n        \"std\": 0.9870423534272685,\n        \"min\": 1.6,\n        \"max\": 9.2,\n        \"samples\": [\n          5.7,\n          8.3,\n          5.1\n        ],\n        \"num_unique_values\": 70,\n        \"semantic_type\": \"\",\n        \"description\": \"\"\n      }\n    },\n    {\n      \"column\": \"numvotes\",\n      \"properties\": {\n        \"dtype\": \"number\",\n        \"std\": 132861,\n        \"min\": 5,\n        \"max\": 1841066,\n        \"samples\": [\n          539338,\n          44728,\n          15768\n        ],\n        \"num_unique_values\": 2424,\n        \"semantic_type\": \"\",\n        \"description\": \"\"\n      }\n    }\n  ]\n}"
            }
          },
          "metadata": {},
          "execution_count": 12
        }
      ]
    },
    {
      "cell_type": "code",
      "source": [
        "#inspect the newly merged data set\n",
        "\n",
        "all_merged_df.info()"
      ],
      "metadata": {
        "colab": {
          "base_uri": "https://localhost:8080/"
        },
        "id": "wOj7RQuYfTiM",
        "outputId": "94841086-0353-4d86-bb4d-80d2162a542d"
      },
      "execution_count": 13,
      "outputs": [
        {
          "output_type": "stream",
          "name": "stdout",
          "text": [
            "<class 'pandas.core.frame.DataFrame'>\n",
            "Int64Index: 2597 entries, 0 to 2596\n",
            "Data columns (total 12 columns):\n",
            " #   Column           Non-Null Count  Dtype  \n",
            "---  ------           --------------  -----  \n",
            " 0   title            2597 non-null   object \n",
            " 1   studio           2595 non-null   object \n",
            " 2   domestic_gross   2576 non-null   float64\n",
            " 3   foreign_gross    1608 non-null   object \n",
            " 4   year             2597 non-null   int64  \n",
            " 5   tconst           2597 non-null   object \n",
            " 6   original_title   2597 non-null   object \n",
            " 7   start_year       2597 non-null   float64\n",
            " 8   runtime_minutes  2560 non-null   float64\n",
            " 9   genres           2593 non-null   object \n",
            " 10  averagerating    2597 non-null   float64\n",
            " 11  numvotes         2597 non-null   int64  \n",
            "dtypes: float64(4), int64(2), object(6)\n",
            "memory usage: 263.8+ KB\n"
          ]
        }
      ]
    },
    {
      "cell_type": "code",
      "source": [
        "#checking descriptive statistics\n",
        "all_merged_df.describe()"
      ],
      "metadata": {
        "colab": {
          "base_uri": "https://localhost:8080/",
          "height": 300
        },
        "id": "KKGP-Zh8fcfe",
        "outputId": "e3084b60-cfd4-45d7-9f9e-a9392dc29c49"
      },
      "execution_count": 14,
      "outputs": [
        {
          "output_type": "execute_result",
          "data": {
            "text/plain": [
              "       domestic_gross         year   start_year  runtime_minutes  \\\n",
              "count    2.576000e+03  2597.000000  2597.000000      2560.000000   \n",
              "mean     3.292019e+07  2013.699653  2013.243743       106.886719   \n",
              "std      7.008290e+07     2.272781     2.209441        19.854740   \n",
              "min      1.000000e+02  2010.000000  2010.000000         3.000000   \n",
              "25%      1.510000e+05  2012.000000  2011.000000        94.000000   \n",
              "50%      2.600000e+06  2014.000000  2013.000000       104.000000   \n",
              "75%      3.540000e+07  2016.000000  2015.000000       118.000000   \n",
              "max      7.001000e+08  2018.000000  2019.000000       272.000000   \n",
              "\n",
              "       averagerating      numvotes  \n",
              "count    2597.000000  2.597000e+03  \n",
              "mean        6.452214  6.902101e+04  \n",
              "std         0.987042  1.328612e+05  \n",
              "min         1.600000  5.000000e+00  \n",
              "25%         5.900000  3.231000e+03  \n",
              "50%         6.500000  1.705500e+04  \n",
              "75%         7.100000  7.432900e+04  \n",
              "max         9.200000  1.841066e+06  "
            ],
            "text/html": [
              "\n",
              "  <div id=\"df-b0695bad-c672-44f9-8878-1a2bf759e8fe\" class=\"colab-df-container\">\n",
              "    <div>\n",
              "<style scoped>\n",
              "    .dataframe tbody tr th:only-of-type {\n",
              "        vertical-align: middle;\n",
              "    }\n",
              "\n",
              "    .dataframe tbody tr th {\n",
              "        vertical-align: top;\n",
              "    }\n",
              "\n",
              "    .dataframe thead th {\n",
              "        text-align: right;\n",
              "    }\n",
              "</style>\n",
              "<table border=\"1\" class=\"dataframe\">\n",
              "  <thead>\n",
              "    <tr style=\"text-align: right;\">\n",
              "      <th></th>\n",
              "      <th>domestic_gross</th>\n",
              "      <th>year</th>\n",
              "      <th>start_year</th>\n",
              "      <th>runtime_minutes</th>\n",
              "      <th>averagerating</th>\n",
              "      <th>numvotes</th>\n",
              "    </tr>\n",
              "  </thead>\n",
              "  <tbody>\n",
              "    <tr>\n",
              "      <th>count</th>\n",
              "      <td>2.576000e+03</td>\n",
              "      <td>2597.000000</td>\n",
              "      <td>2597.000000</td>\n",
              "      <td>2560.000000</td>\n",
              "      <td>2597.000000</td>\n",
              "      <td>2.597000e+03</td>\n",
              "    </tr>\n",
              "    <tr>\n",
              "      <th>mean</th>\n",
              "      <td>3.292019e+07</td>\n",
              "      <td>2013.699653</td>\n",
              "      <td>2013.243743</td>\n",
              "      <td>106.886719</td>\n",
              "      <td>6.452214</td>\n",
              "      <td>6.902101e+04</td>\n",
              "    </tr>\n",
              "    <tr>\n",
              "      <th>std</th>\n",
              "      <td>7.008290e+07</td>\n",
              "      <td>2.272781</td>\n",
              "      <td>2.209441</td>\n",
              "      <td>19.854740</td>\n",
              "      <td>0.987042</td>\n",
              "      <td>1.328612e+05</td>\n",
              "    </tr>\n",
              "    <tr>\n",
              "      <th>min</th>\n",
              "      <td>1.000000e+02</td>\n",
              "      <td>2010.000000</td>\n",
              "      <td>2010.000000</td>\n",
              "      <td>3.000000</td>\n",
              "      <td>1.600000</td>\n",
              "      <td>5.000000e+00</td>\n",
              "    </tr>\n",
              "    <tr>\n",
              "      <th>25%</th>\n",
              "      <td>1.510000e+05</td>\n",
              "      <td>2012.000000</td>\n",
              "      <td>2011.000000</td>\n",
              "      <td>94.000000</td>\n",
              "      <td>5.900000</td>\n",
              "      <td>3.231000e+03</td>\n",
              "    </tr>\n",
              "    <tr>\n",
              "      <th>50%</th>\n",
              "      <td>2.600000e+06</td>\n",
              "      <td>2014.000000</td>\n",
              "      <td>2013.000000</td>\n",
              "      <td>104.000000</td>\n",
              "      <td>6.500000</td>\n",
              "      <td>1.705500e+04</td>\n",
              "    </tr>\n",
              "    <tr>\n",
              "      <th>75%</th>\n",
              "      <td>3.540000e+07</td>\n",
              "      <td>2016.000000</td>\n",
              "      <td>2015.000000</td>\n",
              "      <td>118.000000</td>\n",
              "      <td>7.100000</td>\n",
              "      <td>7.432900e+04</td>\n",
              "    </tr>\n",
              "    <tr>\n",
              "      <th>max</th>\n",
              "      <td>7.001000e+08</td>\n",
              "      <td>2018.000000</td>\n",
              "      <td>2019.000000</td>\n",
              "      <td>272.000000</td>\n",
              "      <td>9.200000</td>\n",
              "      <td>1.841066e+06</td>\n",
              "    </tr>\n",
              "  </tbody>\n",
              "</table>\n",
              "</div>\n",
              "    <div class=\"colab-df-buttons\">\n",
              "\n",
              "  <div class=\"colab-df-container\">\n",
              "    <button class=\"colab-df-convert\" onclick=\"convertToInteractive('df-b0695bad-c672-44f9-8878-1a2bf759e8fe')\"\n",
              "            title=\"Convert this dataframe to an interactive table.\"\n",
              "            style=\"display:none;\">\n",
              "\n",
              "  <svg xmlns=\"http://www.w3.org/2000/svg\" height=\"24px\" viewBox=\"0 -960 960 960\">\n",
              "    <path d=\"M120-120v-720h720v720H120Zm60-500h600v-160H180v160Zm220 220h160v-160H400v160Zm0 220h160v-160H400v160ZM180-400h160v-160H180v160Zm440 0h160v-160H620v160ZM180-180h160v-160H180v160Zm440 0h160v-160H620v160Z\"/>\n",
              "  </svg>\n",
              "    </button>\n",
              "\n",
              "  <style>\n",
              "    .colab-df-container {\n",
              "      display:flex;\n",
              "      gap: 12px;\n",
              "    }\n",
              "\n",
              "    .colab-df-convert {\n",
              "      background-color: #E8F0FE;\n",
              "      border: none;\n",
              "      border-radius: 50%;\n",
              "      cursor: pointer;\n",
              "      display: none;\n",
              "      fill: #1967D2;\n",
              "      height: 32px;\n",
              "      padding: 0 0 0 0;\n",
              "      width: 32px;\n",
              "    }\n",
              "\n",
              "    .colab-df-convert:hover {\n",
              "      background-color: #E2EBFA;\n",
              "      box-shadow: 0px 1px 2px rgba(60, 64, 67, 0.3), 0px 1px 3px 1px rgba(60, 64, 67, 0.15);\n",
              "      fill: #174EA6;\n",
              "    }\n",
              "\n",
              "    .colab-df-buttons div {\n",
              "      margin-bottom: 4px;\n",
              "    }\n",
              "\n",
              "    [theme=dark] .colab-df-convert {\n",
              "      background-color: #3B4455;\n",
              "      fill: #D2E3FC;\n",
              "    }\n",
              "\n",
              "    [theme=dark] .colab-df-convert:hover {\n",
              "      background-color: #434B5C;\n",
              "      box-shadow: 0px 1px 3px 1px rgba(0, 0, 0, 0.15);\n",
              "      filter: drop-shadow(0px 1px 2px rgba(0, 0, 0, 0.3));\n",
              "      fill: #FFFFFF;\n",
              "    }\n",
              "  </style>\n",
              "\n",
              "    <script>\n",
              "      const buttonEl =\n",
              "        document.querySelector('#df-b0695bad-c672-44f9-8878-1a2bf759e8fe button.colab-df-convert');\n",
              "      buttonEl.style.display =\n",
              "        google.colab.kernel.accessAllowed ? 'block' : 'none';\n",
              "\n",
              "      async function convertToInteractive(key) {\n",
              "        const element = document.querySelector('#df-b0695bad-c672-44f9-8878-1a2bf759e8fe');\n",
              "        const dataTable =\n",
              "          await google.colab.kernel.invokeFunction('convertToInteractive',\n",
              "                                                    [key], {});\n",
              "        if (!dataTable) return;\n",
              "\n",
              "        const docLinkHtml = 'Like what you see? Visit the ' +\n",
              "          '<a target=\"_blank\" href=https://colab.research.google.com/notebooks/data_table.ipynb>data table notebook</a>'\n",
              "          + ' to learn more about interactive tables.';\n",
              "        element.innerHTML = '';\n",
              "        dataTable['output_type'] = 'display_data';\n",
              "        await google.colab.output.renderOutput(dataTable, element);\n",
              "        const docLink = document.createElement('div');\n",
              "        docLink.innerHTML = docLinkHtml;\n",
              "        element.appendChild(docLink);\n",
              "      }\n",
              "    </script>\n",
              "  </div>\n",
              "\n",
              "\n",
              "<div id=\"df-b1c76004-548f-45d4-b2eb-b5eac74177ad\">\n",
              "  <button class=\"colab-df-quickchart\" onclick=\"quickchart('df-b1c76004-548f-45d4-b2eb-b5eac74177ad')\"\n",
              "            title=\"Suggest charts\"\n",
              "            style=\"display:none;\">\n",
              "\n",
              "<svg xmlns=\"http://www.w3.org/2000/svg\" height=\"24px\"viewBox=\"0 0 24 24\"\n",
              "     width=\"24px\">\n",
              "    <g>\n",
              "        <path d=\"M19 3H5c-1.1 0-2 .9-2 2v14c0 1.1.9 2 2 2h14c1.1 0 2-.9 2-2V5c0-1.1-.9-2-2-2zM9 17H7v-7h2v7zm4 0h-2V7h2v10zm4 0h-2v-4h2v4z\"/>\n",
              "    </g>\n",
              "</svg>\n",
              "  </button>\n",
              "\n",
              "<style>\n",
              "  .colab-df-quickchart {\n",
              "      --bg-color: #E8F0FE;\n",
              "      --fill-color: #1967D2;\n",
              "      --hover-bg-color: #E2EBFA;\n",
              "      --hover-fill-color: #174EA6;\n",
              "      --disabled-fill-color: #AAA;\n",
              "      --disabled-bg-color: #DDD;\n",
              "  }\n",
              "\n",
              "  [theme=dark] .colab-df-quickchart {\n",
              "      --bg-color: #3B4455;\n",
              "      --fill-color: #D2E3FC;\n",
              "      --hover-bg-color: #434B5C;\n",
              "      --hover-fill-color: #FFFFFF;\n",
              "      --disabled-bg-color: #3B4455;\n",
              "      --disabled-fill-color: #666;\n",
              "  }\n",
              "\n",
              "  .colab-df-quickchart {\n",
              "    background-color: var(--bg-color);\n",
              "    border: none;\n",
              "    border-radius: 50%;\n",
              "    cursor: pointer;\n",
              "    display: none;\n",
              "    fill: var(--fill-color);\n",
              "    height: 32px;\n",
              "    padding: 0;\n",
              "    width: 32px;\n",
              "  }\n",
              "\n",
              "  .colab-df-quickchart:hover {\n",
              "    background-color: var(--hover-bg-color);\n",
              "    box-shadow: 0 1px 2px rgba(60, 64, 67, 0.3), 0 1px 3px 1px rgba(60, 64, 67, 0.15);\n",
              "    fill: var(--button-hover-fill-color);\n",
              "  }\n",
              "\n",
              "  .colab-df-quickchart-complete:disabled,\n",
              "  .colab-df-quickchart-complete:disabled:hover {\n",
              "    background-color: var(--disabled-bg-color);\n",
              "    fill: var(--disabled-fill-color);\n",
              "    box-shadow: none;\n",
              "  }\n",
              "\n",
              "  .colab-df-spinner {\n",
              "    border: 2px solid var(--fill-color);\n",
              "    border-color: transparent;\n",
              "    border-bottom-color: var(--fill-color);\n",
              "    animation:\n",
              "      spin 1s steps(1) infinite;\n",
              "  }\n",
              "\n",
              "  @keyframes spin {\n",
              "    0% {\n",
              "      border-color: transparent;\n",
              "      border-bottom-color: var(--fill-color);\n",
              "      border-left-color: var(--fill-color);\n",
              "    }\n",
              "    20% {\n",
              "      border-color: transparent;\n",
              "      border-left-color: var(--fill-color);\n",
              "      border-top-color: var(--fill-color);\n",
              "    }\n",
              "    30% {\n",
              "      border-color: transparent;\n",
              "      border-left-color: var(--fill-color);\n",
              "      border-top-color: var(--fill-color);\n",
              "      border-right-color: var(--fill-color);\n",
              "    }\n",
              "    40% {\n",
              "      border-color: transparent;\n",
              "      border-right-color: var(--fill-color);\n",
              "      border-top-color: var(--fill-color);\n",
              "    }\n",
              "    60% {\n",
              "      border-color: transparent;\n",
              "      border-right-color: var(--fill-color);\n",
              "    }\n",
              "    80% {\n",
              "      border-color: transparent;\n",
              "      border-right-color: var(--fill-color);\n",
              "      border-bottom-color: var(--fill-color);\n",
              "    }\n",
              "    90% {\n",
              "      border-color: transparent;\n",
              "      border-bottom-color: var(--fill-color);\n",
              "    }\n",
              "  }\n",
              "</style>\n",
              "\n",
              "  <script>\n",
              "    async function quickchart(key) {\n",
              "      const quickchartButtonEl =\n",
              "        document.querySelector('#' + key + ' button');\n",
              "      quickchartButtonEl.disabled = true;  // To prevent multiple clicks.\n",
              "      quickchartButtonEl.classList.add('colab-df-spinner');\n",
              "      try {\n",
              "        const charts = await google.colab.kernel.invokeFunction(\n",
              "            'suggestCharts', [key], {});\n",
              "      } catch (error) {\n",
              "        console.error('Error during call to suggestCharts:', error);\n",
              "      }\n",
              "      quickchartButtonEl.classList.remove('colab-df-spinner');\n",
              "      quickchartButtonEl.classList.add('colab-df-quickchart-complete');\n",
              "    }\n",
              "    (() => {\n",
              "      let quickchartButtonEl =\n",
              "        document.querySelector('#df-b1c76004-548f-45d4-b2eb-b5eac74177ad button');\n",
              "      quickchartButtonEl.style.display =\n",
              "        google.colab.kernel.accessAllowed ? 'block' : 'none';\n",
              "    })();\n",
              "  </script>\n",
              "</div>\n",
              "\n",
              "    </div>\n",
              "  </div>\n"
            ],
            "application/vnd.google.colaboratory.intrinsic+json": {
              "type": "dataframe",
              "summary": "{\n  \"name\": \"all_merged_df\",\n  \"rows\": 8,\n  \"fields\": [\n    {\n      \"column\": \"domestic_gross\",\n      \"properties\": {\n        \"dtype\": \"number\",\n        \"std\": 241699691.59434912,\n        \"min\": 100.0,\n        \"max\": 700100000.0,\n        \"samples\": [\n          32920189.82181677,\n          2600000.0,\n          2576.0\n        ],\n        \"num_unique_values\": 8,\n        \"semantic_type\": \"\",\n        \"description\": \"\"\n      }\n    },\n    {\n      \"column\": \"year\",\n      \"properties\": {\n        \"dtype\": \"number\",\n        \"std\": 768.2736230849359,\n        \"min\": 2.272781405897055,\n        \"max\": 2597.0,\n        \"samples\": [\n          2013.6996534462842,\n          2014.0,\n          2597.0\n        ],\n        \"num_unique_values\": 8,\n        \"semantic_type\": \"\",\n        \"description\": \"\"\n      }\n    },\n    {\n      \"column\": \"start_year\",\n      \"properties\": {\n        \"dtype\": \"number\",\n        \"std\": 768.2147243680241,\n        \"min\": 2.2094410482814295,\n        \"max\": 2597.0,\n        \"samples\": [\n          2013.243742780131,\n          2013.0,\n          2597.0\n        ],\n        \"num_unique_values\": 8,\n        \"semantic_type\": \"\",\n        \"description\": \"\"\n      }\n    },\n    {\n      \"column\": \"runtime_minutes\",\n      \"properties\": {\n        \"dtype\": \"number\",\n        \"std\": 872.6019668461084,\n        \"min\": 3.0,\n        \"max\": 2560.0,\n        \"samples\": [\n          106.88671875,\n          104.0,\n          2560.0\n        ],\n        \"num_unique_values\": 8,\n        \"semantic_type\": \"\",\n        \"description\": \"\"\n      }\n    },\n    {\n      \"column\": \"averagerating\",\n      \"properties\": {\n        \"dtype\": \"number\",\n        \"std\": 916.2762299217029,\n        \"min\": 0.9870423534272685,\n        \"max\": 2597.0,\n        \"samples\": [\n          6.452214093184444,\n          6.5,\n          2597.0\n        ],\n        \"num_unique_values\": 8,\n        \"semantic_type\": \"\",\n        \"description\": \"\"\n      }\n    },\n    {\n      \"column\": \"numvotes\",\n      \"properties\": {\n        \"dtype\": \"number\",\n        \"std\": 637543.7777650352,\n        \"min\": 5.0,\n        \"max\": 1841066.0,\n        \"samples\": [\n          69021.01155179052,\n          17055.0,\n          2597.0\n        ],\n        \"num_unique_values\": 8,\n        \"semantic_type\": \"\",\n        \"description\": \"\"\n      }\n    }\n  ]\n}"
            }
          },
          "metadata": {},
          "execution_count": 14
        }
      ]
    },
    {
      "cell_type": "code",
      "source": [
        "# calling the merged dataframe df to make it easier to call\n",
        "df = all_merged_df"
      ],
      "metadata": {
        "id": "3Hn4v5CDnLmt"
      },
      "execution_count": 15,
      "outputs": []
    },
    {
      "cell_type": "markdown",
      "source": [
        "Now that the data set is merged, we can clean it at once.\n",
        "\n",
        "\n",
        "**DATA CLEANING**\n",
        "\n",
        "1. Foreign gross is the wrong data type. It is an object, rather than a float.\n",
        "\n"
      ],
      "metadata": {
        "id": "Ly6ne4x3eWy5"
      }
    },
    {
      "cell_type": "code",
      "source": [
        "df['foreign_gross']= df['foreign_gross'].astype(float)"
      ],
      "metadata": {
        "colab": {
          "base_uri": "https://localhost:8080/",
          "height": 298
        },
        "id": "T9OYERyaKiFI",
        "outputId": "e606747a-63e4-454a-d661-d47476fa465c"
      },
      "execution_count": 17,
      "outputs": [
        {
          "output_type": "error",
          "ename": "ValueError",
          "evalue": "could not convert string to float: '1,019.4'",
          "traceback": [
            "\u001b[0;31m---------------------------------------------------------------------------\u001b[0m",
            "\u001b[0;31mValueError\u001b[0m                                Traceback (most recent call last)",
            "\u001b[0;32m<ipython-input-17-d7c2a33b94ce>\u001b[0m in \u001b[0;36m<cell line: 1>\u001b[0;34m()\u001b[0m\n\u001b[0;32m----> 1\u001b[0;31m \u001b[0mdf\u001b[0m\u001b[0;34m[\u001b[0m\u001b[0;34m'foreign_gross'\u001b[0m\u001b[0;34m]\u001b[0m\u001b[0;34m=\u001b[0m \u001b[0mdf\u001b[0m\u001b[0;34m[\u001b[0m\u001b[0;34m'foreign_gross'\u001b[0m\u001b[0;34m]\u001b[0m\u001b[0;34m.\u001b[0m\u001b[0mastype\u001b[0m\u001b[0;34m(\u001b[0m\u001b[0mfloat\u001b[0m\u001b[0;34m)\u001b[0m\u001b[0;34m\u001b[0m\u001b[0;34m\u001b[0m\u001b[0m\n\u001b[0m",
            "\u001b[0;32m/usr/local/lib/python3.10/dist-packages/pandas/core/generic.py\u001b[0m in \u001b[0;36mastype\u001b[0;34m(self, dtype, copy, errors)\u001b[0m\n\u001b[1;32m   6238\u001b[0m         \u001b[0;32melse\u001b[0m\u001b[0;34m:\u001b[0m\u001b[0;34m\u001b[0m\u001b[0;34m\u001b[0m\u001b[0m\n\u001b[1;32m   6239\u001b[0m             \u001b[0;31m# else, only a single dtype is given\u001b[0m\u001b[0;34m\u001b[0m\u001b[0;34m\u001b[0m\u001b[0m\n\u001b[0;32m-> 6240\u001b[0;31m             \u001b[0mnew_data\u001b[0m \u001b[0;34m=\u001b[0m \u001b[0mself\u001b[0m\u001b[0;34m.\u001b[0m\u001b[0m_mgr\u001b[0m\u001b[0;34m.\u001b[0m\u001b[0mastype\u001b[0m\u001b[0;34m(\u001b[0m\u001b[0mdtype\u001b[0m\u001b[0;34m=\u001b[0m\u001b[0mdtype\u001b[0m\u001b[0;34m,\u001b[0m \u001b[0mcopy\u001b[0m\u001b[0;34m=\u001b[0m\u001b[0mcopy\u001b[0m\u001b[0;34m,\u001b[0m \u001b[0merrors\u001b[0m\u001b[0;34m=\u001b[0m\u001b[0merrors\u001b[0m\u001b[0;34m)\u001b[0m\u001b[0;34m\u001b[0m\u001b[0;34m\u001b[0m\u001b[0m\n\u001b[0m\u001b[1;32m   6241\u001b[0m             \u001b[0;32mreturn\u001b[0m \u001b[0mself\u001b[0m\u001b[0;34m.\u001b[0m\u001b[0m_constructor\u001b[0m\u001b[0;34m(\u001b[0m\u001b[0mnew_data\u001b[0m\u001b[0;34m)\u001b[0m\u001b[0;34m.\u001b[0m\u001b[0m__finalize__\u001b[0m\u001b[0;34m(\u001b[0m\u001b[0mself\u001b[0m\u001b[0;34m,\u001b[0m \u001b[0mmethod\u001b[0m\u001b[0;34m=\u001b[0m\u001b[0;34m\"astype\"\u001b[0m\u001b[0;34m)\u001b[0m\u001b[0;34m\u001b[0m\u001b[0;34m\u001b[0m\u001b[0m\n\u001b[1;32m   6242\u001b[0m \u001b[0;34m\u001b[0m\u001b[0m\n",
            "\u001b[0;32m/usr/local/lib/python3.10/dist-packages/pandas/core/internals/managers.py\u001b[0m in \u001b[0;36mastype\u001b[0;34m(self, dtype, copy, errors)\u001b[0m\n\u001b[1;32m    446\u001b[0m \u001b[0;34m\u001b[0m\u001b[0m\n\u001b[1;32m    447\u001b[0m     \u001b[0;32mdef\u001b[0m \u001b[0mastype\u001b[0m\u001b[0;34m(\u001b[0m\u001b[0mself\u001b[0m\u001b[0;34m:\u001b[0m \u001b[0mT\u001b[0m\u001b[0;34m,\u001b[0m \u001b[0mdtype\u001b[0m\u001b[0;34m,\u001b[0m \u001b[0mcopy\u001b[0m\u001b[0;34m:\u001b[0m \u001b[0mbool\u001b[0m \u001b[0;34m=\u001b[0m \u001b[0;32mFalse\u001b[0m\u001b[0;34m,\u001b[0m \u001b[0merrors\u001b[0m\u001b[0;34m:\u001b[0m \u001b[0mstr\u001b[0m \u001b[0;34m=\u001b[0m \u001b[0;34m\"raise\"\u001b[0m\u001b[0;34m)\u001b[0m \u001b[0;34m->\u001b[0m \u001b[0mT\u001b[0m\u001b[0;34m:\u001b[0m\u001b[0;34m\u001b[0m\u001b[0;34m\u001b[0m\u001b[0m\n\u001b[0;32m--> 448\u001b[0;31m         \u001b[0;32mreturn\u001b[0m \u001b[0mself\u001b[0m\u001b[0;34m.\u001b[0m\u001b[0mapply\u001b[0m\u001b[0;34m(\u001b[0m\u001b[0;34m\"astype\"\u001b[0m\u001b[0;34m,\u001b[0m \u001b[0mdtype\u001b[0m\u001b[0;34m=\u001b[0m\u001b[0mdtype\u001b[0m\u001b[0;34m,\u001b[0m \u001b[0mcopy\u001b[0m\u001b[0;34m=\u001b[0m\u001b[0mcopy\u001b[0m\u001b[0;34m,\u001b[0m \u001b[0merrors\u001b[0m\u001b[0;34m=\u001b[0m\u001b[0merrors\u001b[0m\u001b[0;34m)\u001b[0m\u001b[0;34m\u001b[0m\u001b[0;34m\u001b[0m\u001b[0m\n\u001b[0m\u001b[1;32m    449\u001b[0m \u001b[0;34m\u001b[0m\u001b[0m\n\u001b[1;32m    450\u001b[0m     def convert(\n",
            "\u001b[0;32m/usr/local/lib/python3.10/dist-packages/pandas/core/internals/managers.py\u001b[0m in \u001b[0;36mapply\u001b[0;34m(self, f, align_keys, ignore_failures, **kwargs)\u001b[0m\n\u001b[1;32m    350\u001b[0m                     \u001b[0mapplied\u001b[0m \u001b[0;34m=\u001b[0m \u001b[0mb\u001b[0m\u001b[0;34m.\u001b[0m\u001b[0mapply\u001b[0m\u001b[0;34m(\u001b[0m\u001b[0mf\u001b[0m\u001b[0;34m,\u001b[0m \u001b[0;34m**\u001b[0m\u001b[0mkwargs\u001b[0m\u001b[0;34m)\u001b[0m\u001b[0;34m\u001b[0m\u001b[0;34m\u001b[0m\u001b[0m\n\u001b[1;32m    351\u001b[0m                 \u001b[0;32melse\u001b[0m\u001b[0;34m:\u001b[0m\u001b[0;34m\u001b[0m\u001b[0;34m\u001b[0m\u001b[0m\n\u001b[0;32m--> 352\u001b[0;31m                     \u001b[0mapplied\u001b[0m \u001b[0;34m=\u001b[0m \u001b[0mgetattr\u001b[0m\u001b[0;34m(\u001b[0m\u001b[0mb\u001b[0m\u001b[0;34m,\u001b[0m \u001b[0mf\u001b[0m\u001b[0;34m)\u001b[0m\u001b[0;34m(\u001b[0m\u001b[0;34m**\u001b[0m\u001b[0mkwargs\u001b[0m\u001b[0;34m)\u001b[0m\u001b[0;34m\u001b[0m\u001b[0;34m\u001b[0m\u001b[0m\n\u001b[0m\u001b[1;32m    353\u001b[0m             \u001b[0;32mexcept\u001b[0m \u001b[0;34m(\u001b[0m\u001b[0mTypeError\u001b[0m\u001b[0;34m,\u001b[0m \u001b[0mNotImplementedError\u001b[0m\u001b[0;34m)\u001b[0m\u001b[0;34m:\u001b[0m\u001b[0;34m\u001b[0m\u001b[0;34m\u001b[0m\u001b[0m\n\u001b[1;32m    354\u001b[0m                 \u001b[0;32mif\u001b[0m \u001b[0;32mnot\u001b[0m \u001b[0mignore_failures\u001b[0m\u001b[0;34m:\u001b[0m\u001b[0;34m\u001b[0m\u001b[0;34m\u001b[0m\u001b[0m\n",
            "\u001b[0;32m/usr/local/lib/python3.10/dist-packages/pandas/core/internals/blocks.py\u001b[0m in \u001b[0;36mastype\u001b[0;34m(self, dtype, copy, errors)\u001b[0m\n\u001b[1;32m    524\u001b[0m         \u001b[0mvalues\u001b[0m \u001b[0;34m=\u001b[0m \u001b[0mself\u001b[0m\u001b[0;34m.\u001b[0m\u001b[0mvalues\u001b[0m\u001b[0;34m\u001b[0m\u001b[0;34m\u001b[0m\u001b[0m\n\u001b[1;32m    525\u001b[0m \u001b[0;34m\u001b[0m\u001b[0m\n\u001b[0;32m--> 526\u001b[0;31m         \u001b[0mnew_values\u001b[0m \u001b[0;34m=\u001b[0m \u001b[0mastype_array_safe\u001b[0m\u001b[0;34m(\u001b[0m\u001b[0mvalues\u001b[0m\u001b[0;34m,\u001b[0m \u001b[0mdtype\u001b[0m\u001b[0;34m,\u001b[0m \u001b[0mcopy\u001b[0m\u001b[0;34m=\u001b[0m\u001b[0mcopy\u001b[0m\u001b[0;34m,\u001b[0m \u001b[0merrors\u001b[0m\u001b[0;34m=\u001b[0m\u001b[0merrors\u001b[0m\u001b[0;34m)\u001b[0m\u001b[0;34m\u001b[0m\u001b[0;34m\u001b[0m\u001b[0m\n\u001b[0m\u001b[1;32m    527\u001b[0m \u001b[0;34m\u001b[0m\u001b[0m\n\u001b[1;32m    528\u001b[0m         \u001b[0mnew_values\u001b[0m \u001b[0;34m=\u001b[0m \u001b[0mmaybe_coerce_values\u001b[0m\u001b[0;34m(\u001b[0m\u001b[0mnew_values\u001b[0m\u001b[0;34m)\u001b[0m\u001b[0;34m\u001b[0m\u001b[0;34m\u001b[0m\u001b[0m\n",
            "\u001b[0;32m/usr/local/lib/python3.10/dist-packages/pandas/core/dtypes/astype.py\u001b[0m in \u001b[0;36mastype_array_safe\u001b[0;34m(values, dtype, copy, errors)\u001b[0m\n\u001b[1;32m    297\u001b[0m \u001b[0;34m\u001b[0m\u001b[0m\n\u001b[1;32m    298\u001b[0m     \u001b[0;32mtry\u001b[0m\u001b[0;34m:\u001b[0m\u001b[0;34m\u001b[0m\u001b[0;34m\u001b[0m\u001b[0m\n\u001b[0;32m--> 299\u001b[0;31m         \u001b[0mnew_values\u001b[0m \u001b[0;34m=\u001b[0m \u001b[0mastype_array\u001b[0m\u001b[0;34m(\u001b[0m\u001b[0mvalues\u001b[0m\u001b[0;34m,\u001b[0m \u001b[0mdtype\u001b[0m\u001b[0;34m,\u001b[0m \u001b[0mcopy\u001b[0m\u001b[0;34m=\u001b[0m\u001b[0mcopy\u001b[0m\u001b[0;34m)\u001b[0m\u001b[0;34m\u001b[0m\u001b[0;34m\u001b[0m\u001b[0m\n\u001b[0m\u001b[1;32m    300\u001b[0m     \u001b[0;32mexcept\u001b[0m \u001b[0;34m(\u001b[0m\u001b[0mValueError\u001b[0m\u001b[0;34m,\u001b[0m \u001b[0mTypeError\u001b[0m\u001b[0;34m)\u001b[0m\u001b[0;34m:\u001b[0m\u001b[0;34m\u001b[0m\u001b[0;34m\u001b[0m\u001b[0m\n\u001b[1;32m    301\u001b[0m         \u001b[0;31m# e.g. astype_nansafe can fail on object-dtype of strings\u001b[0m\u001b[0;34m\u001b[0m\u001b[0;34m\u001b[0m\u001b[0m\n",
            "\u001b[0;32m/usr/local/lib/python3.10/dist-packages/pandas/core/dtypes/astype.py\u001b[0m in \u001b[0;36mastype_array\u001b[0;34m(values, dtype, copy)\u001b[0m\n\u001b[1;32m    228\u001b[0m \u001b[0;34m\u001b[0m\u001b[0m\n\u001b[1;32m    229\u001b[0m     \u001b[0;32melse\u001b[0m\u001b[0;34m:\u001b[0m\u001b[0;34m\u001b[0m\u001b[0;34m\u001b[0m\u001b[0m\n\u001b[0;32m--> 230\u001b[0;31m         \u001b[0mvalues\u001b[0m \u001b[0;34m=\u001b[0m \u001b[0mastype_nansafe\u001b[0m\u001b[0;34m(\u001b[0m\u001b[0mvalues\u001b[0m\u001b[0;34m,\u001b[0m \u001b[0mdtype\u001b[0m\u001b[0;34m,\u001b[0m \u001b[0mcopy\u001b[0m\u001b[0;34m=\u001b[0m\u001b[0mcopy\u001b[0m\u001b[0;34m)\u001b[0m\u001b[0;34m\u001b[0m\u001b[0;34m\u001b[0m\u001b[0m\n\u001b[0m\u001b[1;32m    231\u001b[0m \u001b[0;34m\u001b[0m\u001b[0m\n\u001b[1;32m    232\u001b[0m     \u001b[0;31m# in pandas we don't store numpy str dtypes, so convert to object\u001b[0m\u001b[0;34m\u001b[0m\u001b[0;34m\u001b[0m\u001b[0m\n",
            "\u001b[0;32m/usr/local/lib/python3.10/dist-packages/pandas/core/dtypes/astype.py\u001b[0m in \u001b[0;36mastype_nansafe\u001b[0;34m(arr, dtype, copy, skipna)\u001b[0m\n\u001b[1;32m    168\u001b[0m     \u001b[0;32mif\u001b[0m \u001b[0mcopy\u001b[0m \u001b[0;32mor\u001b[0m \u001b[0mis_object_dtype\u001b[0m\u001b[0;34m(\u001b[0m\u001b[0marr\u001b[0m\u001b[0;34m.\u001b[0m\u001b[0mdtype\u001b[0m\u001b[0;34m)\u001b[0m \u001b[0;32mor\u001b[0m \u001b[0mis_object_dtype\u001b[0m\u001b[0;34m(\u001b[0m\u001b[0mdtype\u001b[0m\u001b[0;34m)\u001b[0m\u001b[0;34m:\u001b[0m\u001b[0;34m\u001b[0m\u001b[0;34m\u001b[0m\u001b[0m\n\u001b[1;32m    169\u001b[0m         \u001b[0;31m# Explicit copy, or required since NumPy can't view from / to object.\u001b[0m\u001b[0;34m\u001b[0m\u001b[0;34m\u001b[0m\u001b[0m\n\u001b[0;32m--> 170\u001b[0;31m         \u001b[0;32mreturn\u001b[0m \u001b[0marr\u001b[0m\u001b[0;34m.\u001b[0m\u001b[0mastype\u001b[0m\u001b[0;34m(\u001b[0m\u001b[0mdtype\u001b[0m\u001b[0;34m,\u001b[0m \u001b[0mcopy\u001b[0m\u001b[0;34m=\u001b[0m\u001b[0;32mTrue\u001b[0m\u001b[0;34m)\u001b[0m\u001b[0;34m\u001b[0m\u001b[0;34m\u001b[0m\u001b[0m\n\u001b[0m\u001b[1;32m    171\u001b[0m \u001b[0;34m\u001b[0m\u001b[0m\n\u001b[1;32m    172\u001b[0m     \u001b[0;32mreturn\u001b[0m \u001b[0marr\u001b[0m\u001b[0;34m.\u001b[0m\u001b[0mastype\u001b[0m\u001b[0;34m(\u001b[0m\u001b[0mdtype\u001b[0m\u001b[0;34m,\u001b[0m \u001b[0mcopy\u001b[0m\u001b[0;34m=\u001b[0m\u001b[0mcopy\u001b[0m\u001b[0;34m)\u001b[0m\u001b[0;34m\u001b[0m\u001b[0;34m\u001b[0m\u001b[0m\n",
            "\u001b[0;31mValueError\u001b[0m: could not convert string to float: '1,019.4'"
          ]
        }
      ]
    },
    {
      "cell_type": "code",
      "source": [
        "# need to remove commas before converting to a float\n",
        "df['foreign_gross'] = df['foreign_gross'].str.replace(',', '').astype(float)"
      ],
      "metadata": {
        "id": "vBHlcO-dMaD9"
      },
      "execution_count": 18,
      "outputs": []
    },
    {
      "cell_type": "code",
      "source": [
        "#foreign gross is now a float\n",
        "df.info()"
      ],
      "metadata": {
        "colab": {
          "base_uri": "https://localhost:8080/"
        },
        "id": "ieDRKcwLMruT",
        "outputId": "843493e4-a0bc-4493-b231-354bcbeccfb1"
      },
      "execution_count": 19,
      "outputs": [
        {
          "output_type": "stream",
          "name": "stdout",
          "text": [
            "<class 'pandas.core.frame.DataFrame'>\n",
            "Int64Index: 2597 entries, 0 to 2596\n",
            "Data columns (total 12 columns):\n",
            " #   Column           Non-Null Count  Dtype  \n",
            "---  ------           --------------  -----  \n",
            " 0   title            2597 non-null   object \n",
            " 1   studio           2595 non-null   object \n",
            " 2   domestic_gross   2576 non-null   float64\n",
            " 3   foreign_gross    1608 non-null   float64\n",
            " 4   year             2597 non-null   int64  \n",
            " 5   tconst           2597 non-null   object \n",
            " 6   original_title   2597 non-null   object \n",
            " 7   start_year       2597 non-null   float64\n",
            " 8   runtime_minutes  2560 non-null   float64\n",
            " 9   genres           2593 non-null   object \n",
            " 10  averagerating    2597 non-null   float64\n",
            " 11  numvotes         2597 non-null   int64  \n",
            "dtypes: float64(5), int64(2), object(5)\n",
            "memory usage: 263.8+ KB\n"
          ]
        }
      ]
    },
    {
      "cell_type": "markdown",
      "source": [
        "2. Check for and address missing values"
      ],
      "metadata": {
        "id": "Gna1zYh3M8fi"
      }
    },
    {
      "cell_type": "code",
      "source": [
        "#check for missing values\n",
        "\n",
        "print(df.isnull().sum())"
      ],
      "metadata": {
        "colab": {
          "base_uri": "https://localhost:8080/"
        },
        "id": "103xUytYd0hn",
        "outputId": "14d8ed4c-d537-41fc-de78-a2e3329ee5a3"
      },
      "execution_count": 20,
      "outputs": [
        {
          "output_type": "stream",
          "name": "stdout",
          "text": [
            "title                0\n",
            "studio               2\n",
            "domestic_gross      21\n",
            "foreign_gross      989\n",
            "year                 0\n",
            "tconst               0\n",
            "original_title       0\n",
            "start_year           0\n",
            "runtime_minutes     37\n",
            "genres               4\n",
            "averagerating        0\n",
            "numvotes             0\n",
            "dtype: int64\n"
          ]
        }
      ]
    },
    {
      "cell_type": "code",
      "source": [
        "# create a function to check the percentage of missing values\n",
        "def missing_values(data):\n",
        "    miss = data.isnull().sum().sort_values(ascending = False)\n",
        "    percentage_miss = (data.isnull().sum() / len(data)).sort_values(ascending = False)\n",
        "    missing = pd.DataFrame({\"Missing Values\": miss, \"Percentage\": percentage_miss}).reset_index()\n",
        "    missing.drop(missing[missing[\"Percentage\"] == 0].index, inplace = True)\n",
        "    return missing\n",
        "\n",
        "missing_data = missing_values(all_merged_df)\n",
        "missing_data"
      ],
      "metadata": {
        "colab": {
          "base_uri": "https://localhost:8080/",
          "height": 206
        },
        "id": "Cl3imazVfF2N",
        "outputId": "0777956c-0df9-4f60-ab1b-a6babce718a9"
      },
      "execution_count": 21,
      "outputs": [
        {
          "output_type": "execute_result",
          "data": {
            "text/plain": [
              "             index  Missing Values  Percentage\n",
              "0    foreign_gross             989    0.380824\n",
              "1  runtime_minutes              37    0.014247\n",
              "2   domestic_gross              21    0.008086\n",
              "3           genres               4    0.001540\n",
              "4           studio               2    0.000770"
            ],
            "text/html": [
              "\n",
              "  <div id=\"df-87801cc0-4400-4cdd-8287-a4932ff4bec6\" class=\"colab-df-container\">\n",
              "    <div>\n",
              "<style scoped>\n",
              "    .dataframe tbody tr th:only-of-type {\n",
              "        vertical-align: middle;\n",
              "    }\n",
              "\n",
              "    .dataframe tbody tr th {\n",
              "        vertical-align: top;\n",
              "    }\n",
              "\n",
              "    .dataframe thead th {\n",
              "        text-align: right;\n",
              "    }\n",
              "</style>\n",
              "<table border=\"1\" class=\"dataframe\">\n",
              "  <thead>\n",
              "    <tr style=\"text-align: right;\">\n",
              "      <th></th>\n",
              "      <th>index</th>\n",
              "      <th>Missing Values</th>\n",
              "      <th>Percentage</th>\n",
              "    </tr>\n",
              "  </thead>\n",
              "  <tbody>\n",
              "    <tr>\n",
              "      <th>0</th>\n",
              "      <td>foreign_gross</td>\n",
              "      <td>989</td>\n",
              "      <td>0.380824</td>\n",
              "    </tr>\n",
              "    <tr>\n",
              "      <th>1</th>\n",
              "      <td>runtime_minutes</td>\n",
              "      <td>37</td>\n",
              "      <td>0.014247</td>\n",
              "    </tr>\n",
              "    <tr>\n",
              "      <th>2</th>\n",
              "      <td>domestic_gross</td>\n",
              "      <td>21</td>\n",
              "      <td>0.008086</td>\n",
              "    </tr>\n",
              "    <tr>\n",
              "      <th>3</th>\n",
              "      <td>genres</td>\n",
              "      <td>4</td>\n",
              "      <td>0.001540</td>\n",
              "    </tr>\n",
              "    <tr>\n",
              "      <th>4</th>\n",
              "      <td>studio</td>\n",
              "      <td>2</td>\n",
              "      <td>0.000770</td>\n",
              "    </tr>\n",
              "  </tbody>\n",
              "</table>\n",
              "</div>\n",
              "    <div class=\"colab-df-buttons\">\n",
              "\n",
              "  <div class=\"colab-df-container\">\n",
              "    <button class=\"colab-df-convert\" onclick=\"convertToInteractive('df-87801cc0-4400-4cdd-8287-a4932ff4bec6')\"\n",
              "            title=\"Convert this dataframe to an interactive table.\"\n",
              "            style=\"display:none;\">\n",
              "\n",
              "  <svg xmlns=\"http://www.w3.org/2000/svg\" height=\"24px\" viewBox=\"0 -960 960 960\">\n",
              "    <path d=\"M120-120v-720h720v720H120Zm60-500h600v-160H180v160Zm220 220h160v-160H400v160Zm0 220h160v-160H400v160ZM180-400h160v-160H180v160Zm440 0h160v-160H620v160ZM180-180h160v-160H180v160Zm440 0h160v-160H620v160Z\"/>\n",
              "  </svg>\n",
              "    </button>\n",
              "\n",
              "  <style>\n",
              "    .colab-df-container {\n",
              "      display:flex;\n",
              "      gap: 12px;\n",
              "    }\n",
              "\n",
              "    .colab-df-convert {\n",
              "      background-color: #E8F0FE;\n",
              "      border: none;\n",
              "      border-radius: 50%;\n",
              "      cursor: pointer;\n",
              "      display: none;\n",
              "      fill: #1967D2;\n",
              "      height: 32px;\n",
              "      padding: 0 0 0 0;\n",
              "      width: 32px;\n",
              "    }\n",
              "\n",
              "    .colab-df-convert:hover {\n",
              "      background-color: #E2EBFA;\n",
              "      box-shadow: 0px 1px 2px rgba(60, 64, 67, 0.3), 0px 1px 3px 1px rgba(60, 64, 67, 0.15);\n",
              "      fill: #174EA6;\n",
              "    }\n",
              "\n",
              "    .colab-df-buttons div {\n",
              "      margin-bottom: 4px;\n",
              "    }\n",
              "\n",
              "    [theme=dark] .colab-df-convert {\n",
              "      background-color: #3B4455;\n",
              "      fill: #D2E3FC;\n",
              "    }\n",
              "\n",
              "    [theme=dark] .colab-df-convert:hover {\n",
              "      background-color: #434B5C;\n",
              "      box-shadow: 0px 1px 3px 1px rgba(0, 0, 0, 0.15);\n",
              "      filter: drop-shadow(0px 1px 2px rgba(0, 0, 0, 0.3));\n",
              "      fill: #FFFFFF;\n",
              "    }\n",
              "  </style>\n",
              "\n",
              "    <script>\n",
              "      const buttonEl =\n",
              "        document.querySelector('#df-87801cc0-4400-4cdd-8287-a4932ff4bec6 button.colab-df-convert');\n",
              "      buttonEl.style.display =\n",
              "        google.colab.kernel.accessAllowed ? 'block' : 'none';\n",
              "\n",
              "      async function convertToInteractive(key) {\n",
              "        const element = document.querySelector('#df-87801cc0-4400-4cdd-8287-a4932ff4bec6');\n",
              "        const dataTable =\n",
              "          await google.colab.kernel.invokeFunction('convertToInteractive',\n",
              "                                                    [key], {});\n",
              "        if (!dataTable) return;\n",
              "\n",
              "        const docLinkHtml = 'Like what you see? Visit the ' +\n",
              "          '<a target=\"_blank\" href=https://colab.research.google.com/notebooks/data_table.ipynb>data table notebook</a>'\n",
              "          + ' to learn more about interactive tables.';\n",
              "        element.innerHTML = '';\n",
              "        dataTable['output_type'] = 'display_data';\n",
              "        await google.colab.output.renderOutput(dataTable, element);\n",
              "        const docLink = document.createElement('div');\n",
              "        docLink.innerHTML = docLinkHtml;\n",
              "        element.appendChild(docLink);\n",
              "      }\n",
              "    </script>\n",
              "  </div>\n",
              "\n",
              "\n",
              "<div id=\"df-babf4d6a-d7e1-4921-b37c-345cca3cffa7\">\n",
              "  <button class=\"colab-df-quickchart\" onclick=\"quickchart('df-babf4d6a-d7e1-4921-b37c-345cca3cffa7')\"\n",
              "            title=\"Suggest charts\"\n",
              "            style=\"display:none;\">\n",
              "\n",
              "<svg xmlns=\"http://www.w3.org/2000/svg\" height=\"24px\"viewBox=\"0 0 24 24\"\n",
              "     width=\"24px\">\n",
              "    <g>\n",
              "        <path d=\"M19 3H5c-1.1 0-2 .9-2 2v14c0 1.1.9 2 2 2h14c1.1 0 2-.9 2-2V5c0-1.1-.9-2-2-2zM9 17H7v-7h2v7zm4 0h-2V7h2v10zm4 0h-2v-4h2v4z\"/>\n",
              "    </g>\n",
              "</svg>\n",
              "  </button>\n",
              "\n",
              "<style>\n",
              "  .colab-df-quickchart {\n",
              "      --bg-color: #E8F0FE;\n",
              "      --fill-color: #1967D2;\n",
              "      --hover-bg-color: #E2EBFA;\n",
              "      --hover-fill-color: #174EA6;\n",
              "      --disabled-fill-color: #AAA;\n",
              "      --disabled-bg-color: #DDD;\n",
              "  }\n",
              "\n",
              "  [theme=dark] .colab-df-quickchart {\n",
              "      --bg-color: #3B4455;\n",
              "      --fill-color: #D2E3FC;\n",
              "      --hover-bg-color: #434B5C;\n",
              "      --hover-fill-color: #FFFFFF;\n",
              "      --disabled-bg-color: #3B4455;\n",
              "      --disabled-fill-color: #666;\n",
              "  }\n",
              "\n",
              "  .colab-df-quickchart {\n",
              "    background-color: var(--bg-color);\n",
              "    border: none;\n",
              "    border-radius: 50%;\n",
              "    cursor: pointer;\n",
              "    display: none;\n",
              "    fill: var(--fill-color);\n",
              "    height: 32px;\n",
              "    padding: 0;\n",
              "    width: 32px;\n",
              "  }\n",
              "\n",
              "  .colab-df-quickchart:hover {\n",
              "    background-color: var(--hover-bg-color);\n",
              "    box-shadow: 0 1px 2px rgba(60, 64, 67, 0.3), 0 1px 3px 1px rgba(60, 64, 67, 0.15);\n",
              "    fill: var(--button-hover-fill-color);\n",
              "  }\n",
              "\n",
              "  .colab-df-quickchart-complete:disabled,\n",
              "  .colab-df-quickchart-complete:disabled:hover {\n",
              "    background-color: var(--disabled-bg-color);\n",
              "    fill: var(--disabled-fill-color);\n",
              "    box-shadow: none;\n",
              "  }\n",
              "\n",
              "  .colab-df-spinner {\n",
              "    border: 2px solid var(--fill-color);\n",
              "    border-color: transparent;\n",
              "    border-bottom-color: var(--fill-color);\n",
              "    animation:\n",
              "      spin 1s steps(1) infinite;\n",
              "  }\n",
              "\n",
              "  @keyframes spin {\n",
              "    0% {\n",
              "      border-color: transparent;\n",
              "      border-bottom-color: var(--fill-color);\n",
              "      border-left-color: var(--fill-color);\n",
              "    }\n",
              "    20% {\n",
              "      border-color: transparent;\n",
              "      border-left-color: var(--fill-color);\n",
              "      border-top-color: var(--fill-color);\n",
              "    }\n",
              "    30% {\n",
              "      border-color: transparent;\n",
              "      border-left-color: var(--fill-color);\n",
              "      border-top-color: var(--fill-color);\n",
              "      border-right-color: var(--fill-color);\n",
              "    }\n",
              "    40% {\n",
              "      border-color: transparent;\n",
              "      border-right-color: var(--fill-color);\n",
              "      border-top-color: var(--fill-color);\n",
              "    }\n",
              "    60% {\n",
              "      border-color: transparent;\n",
              "      border-right-color: var(--fill-color);\n",
              "    }\n",
              "    80% {\n",
              "      border-color: transparent;\n",
              "      border-right-color: var(--fill-color);\n",
              "      border-bottom-color: var(--fill-color);\n",
              "    }\n",
              "    90% {\n",
              "      border-color: transparent;\n",
              "      border-bottom-color: var(--fill-color);\n",
              "    }\n",
              "  }\n",
              "</style>\n",
              "\n",
              "  <script>\n",
              "    async function quickchart(key) {\n",
              "      const quickchartButtonEl =\n",
              "        document.querySelector('#' + key + ' button');\n",
              "      quickchartButtonEl.disabled = true;  // To prevent multiple clicks.\n",
              "      quickchartButtonEl.classList.add('colab-df-spinner');\n",
              "      try {\n",
              "        const charts = await google.colab.kernel.invokeFunction(\n",
              "            'suggestCharts', [key], {});\n",
              "      } catch (error) {\n",
              "        console.error('Error during call to suggestCharts:', error);\n",
              "      }\n",
              "      quickchartButtonEl.classList.remove('colab-df-spinner');\n",
              "      quickchartButtonEl.classList.add('colab-df-quickchart-complete');\n",
              "    }\n",
              "    (() => {\n",
              "      let quickchartButtonEl =\n",
              "        document.querySelector('#df-babf4d6a-d7e1-4921-b37c-345cca3cffa7 button');\n",
              "      quickchartButtonEl.style.display =\n",
              "        google.colab.kernel.accessAllowed ? 'block' : 'none';\n",
              "    })();\n",
              "  </script>\n",
              "</div>\n",
              "\n",
              "  <div id=\"id_02663435-e837-463f-b012-5573fc71596b\">\n",
              "    <style>\n",
              "      .colab-df-generate {\n",
              "        background-color: #E8F0FE;\n",
              "        border: none;\n",
              "        border-radius: 50%;\n",
              "        cursor: pointer;\n",
              "        display: none;\n",
              "        fill: #1967D2;\n",
              "        height: 32px;\n",
              "        padding: 0 0 0 0;\n",
              "        width: 32px;\n",
              "      }\n",
              "\n",
              "      .colab-df-generate:hover {\n",
              "        background-color: #E2EBFA;\n",
              "        box-shadow: 0px 1px 2px rgba(60, 64, 67, 0.3), 0px 1px 3px 1px rgba(60, 64, 67, 0.15);\n",
              "        fill: #174EA6;\n",
              "      }\n",
              "\n",
              "      [theme=dark] .colab-df-generate {\n",
              "        background-color: #3B4455;\n",
              "        fill: #D2E3FC;\n",
              "      }\n",
              "\n",
              "      [theme=dark] .colab-df-generate:hover {\n",
              "        background-color: #434B5C;\n",
              "        box-shadow: 0px 1px 3px 1px rgba(0, 0, 0, 0.15);\n",
              "        filter: drop-shadow(0px 1px 2px rgba(0, 0, 0, 0.3));\n",
              "        fill: #FFFFFF;\n",
              "      }\n",
              "    </style>\n",
              "    <button class=\"colab-df-generate\" onclick=\"generateWithVariable('missing_data')\"\n",
              "            title=\"Generate code using this dataframe.\"\n",
              "            style=\"display:none;\">\n",
              "\n",
              "  <svg xmlns=\"http://www.w3.org/2000/svg\" height=\"24px\"viewBox=\"0 0 24 24\"\n",
              "       width=\"24px\">\n",
              "    <path d=\"M7,19H8.4L18.45,9,17,7.55,7,17.6ZM5,21V16.75L18.45,3.32a2,2,0,0,1,2.83,0l1.4,1.43a1.91,1.91,0,0,1,.58,1.4,1.91,1.91,0,0,1-.58,1.4L9.25,21ZM18.45,9,17,7.55Zm-12,3A5.31,5.31,0,0,0,4.9,8.1,5.31,5.31,0,0,0,1,6.5,5.31,5.31,0,0,0,4.9,4.9,5.31,5.31,0,0,0,6.5,1,5.31,5.31,0,0,0,8.1,4.9,5.31,5.31,0,0,0,12,6.5,5.46,5.46,0,0,0,6.5,12Z\"/>\n",
              "  </svg>\n",
              "    </button>\n",
              "    <script>\n",
              "      (() => {\n",
              "      const buttonEl =\n",
              "        document.querySelector('#id_02663435-e837-463f-b012-5573fc71596b button.colab-df-generate');\n",
              "      buttonEl.style.display =\n",
              "        google.colab.kernel.accessAllowed ? 'block' : 'none';\n",
              "\n",
              "      buttonEl.onclick = () => {\n",
              "        google.colab.notebook.generateWithVariable('missing_data');\n",
              "      }\n",
              "      })();\n",
              "    </script>\n",
              "  </div>\n",
              "\n",
              "    </div>\n",
              "  </div>\n"
            ],
            "application/vnd.google.colaboratory.intrinsic+json": {
              "type": "dataframe",
              "variable_name": "missing_data",
              "summary": "{\n  \"name\": \"missing_data\",\n  \"rows\": 5,\n  \"fields\": [\n    {\n      \"column\": \"index\",\n      \"properties\": {\n        \"dtype\": \"string\",\n        \"samples\": [\n          \"runtime_minutes\",\n          \"studio\",\n          \"domestic_gross\"\n        ],\n        \"num_unique_values\": 5,\n        \"semantic_type\": \"\",\n        \"description\": \"\"\n      }\n    },\n    {\n      \"column\": \"Missing Values\",\n      \"properties\": {\n        \"dtype\": \"number\",\n        \"std\": 435,\n        \"min\": 2,\n        \"max\": 989,\n        \"samples\": [\n          37,\n          2,\n          21\n        ],\n        \"num_unique_values\": 5,\n        \"semantic_type\": \"\",\n        \"description\": \"\"\n      }\n    },\n    {\n      \"column\": \"Percentage\",\n      \"properties\": {\n        \"dtype\": \"number\",\n        \"std\": 0.16764355108073983,\n        \"min\": 0.0007701193685021178,\n        \"max\": 0.38082402772429724,\n        \"samples\": [\n          0.01424720831728918,\n          0.0007701193685021178,\n          0.008086253369272238\n        ],\n        \"num_unique_values\": 5,\n        \"semantic_type\": \"\",\n        \"description\": \"\"\n      }\n    }\n  ]\n}"
            }
          },
          "metadata": {},
          "execution_count": 21
        }
      ]
    },
    {
      "cell_type": "markdown",
      "source": [
        "Foreign gross is the wrong data type. It is an object, rather than a float.\n",
        "\n",
        "Foreign_gross has 38.1% missing values which is very significant. This should be addressed.\n",
        "\n",
        "The percentage of missing values in runtime_minutes, domestic_gross, genres and studios is insignificant. It therefore does not need to be addressed."
      ],
      "metadata": {
        "id": "44sRzcctg9jl"
      }
    },
    {
      "cell_type": "code",
      "source": [
        "# The information in the foreign column is important\n",
        "# Dropping it would lead to significant loss of information\n",
        "# It is therefore better to impute\n",
        "# imputing can be done using the mean or median depending on the distribution\n",
        "# If it's a normal distribution we can use the mean\n",
        "# If it's a skewed distribution we can use the median\n",
        "\n",
        "# Create a figure with dimensions 12x6 inches\n",
        "plt.figure(figsize=(12, 6))\n",
        "\n",
        "# Create the first subplot (1 row, 2 columns, first plot)\n",
        "plt.subplot(1, 2, 1)\n",
        "\n",
        "# Plot the histogram with KDE of the 'bmi' column from stroke_data, dropping missing values\n",
        "sns.histplot(df['foreign_gross'], kde=True, color='blue')\n",
        "\n",
        "# Set title for the subplot\n",
        "plt.title('Distribution Before Imputation')"
      ],
      "metadata": {
        "colab": {
          "base_uri": "https://localhost:8080/",
          "height": 582
        },
        "id": "jtR-6oi-g78O",
        "outputId": "d408cf16-3d84-4787-bfa4-d00aacc2a2a1"
      },
      "execution_count": 22,
      "outputs": [
        {
          "output_type": "execute_result",
          "data": {
            "text/plain": [
              "Text(0.5, 1.0, 'Distribution Before Imputation')"
            ]
          },
          "metadata": {},
          "execution_count": 22
        },
        {
          "output_type": "display_data",
          "data": {
            "text/plain": [
              "<Figure size 1200x600 with 1 Axes>"
            ],
            "image/png": "[encoded data removed]"
          },
          "metadata": {}
        }
      ]
    },
    {
      "cell_type": "code",
      "source": [
        "#this is a skewed distribution so we impute using the median\n",
        "\n",
        "df['foreign_gross'].fillna(df['foreign_gross'].median(), inplace = True)"
      ],
      "metadata": {
        "id": "QUOLiDgaqLzk"
      },
      "execution_count": 23,
      "outputs": []
    },
    {
      "cell_type": "code",
      "source": [
        "#check for missing values after imputation\n",
        "\n",
        "print(df.isnull().sum())"
      ],
      "metadata": {
        "colab": {
          "base_uri": "https://localhost:8080/"
        },
        "id": "YUkUUq8SNdvP",
        "outputId": "95754f64-61ef-4ac7-d616-68ffdcf58be9"
      },
      "execution_count": 24,
      "outputs": [
        {
          "output_type": "stream",
          "name": "stdout",
          "text": [
            "title               0\n",
            "studio              2\n",
            "domestic_gross     21\n",
            "foreign_gross       0\n",
            "year                0\n",
            "tconst              0\n",
            "original_title      0\n",
            "start_year          0\n",
            "runtime_minutes    37\n",
            "genres              4\n",
            "averagerating       0\n",
            "numvotes            0\n",
            "dtype: int64\n"
          ]
        }
      ]
    },
    {
      "cell_type": "code",
      "source": [
        "# Create a figure with dimensions 12x6 inches\n",
        "plt.figure(figsize=(12, 6))\n",
        "\n",
        "# Create the first subplot (1 row, 2 columns, first plot)\n",
        "plt.subplot(1, 2, 1)\n",
        "\n",
        "# Plot the histogram with KDE of the 'bmi' column from stroke_data, dropping missing values\n",
        "sns.histplot(df['foreign_gross'], kde=True, color='blue')\n",
        "\n",
        "# Set title for the subplot\n",
        "plt.title('Distribution After Imputation')"
      ],
      "metadata": {
        "colab": {
          "base_uri": "https://localhost:8080/",
          "height": 582
        },
        "id": "m-ZeAxCyNldD",
        "outputId": "973071b2-ce41-42f0-d8df-762ee43aeb02"
      },
      "execution_count": 25,
      "outputs": [
        {
          "output_type": "execute_result",
          "data": {
            "text/plain": [
              "Text(0.5, 1.0, 'Distribution After Imputation')"
            ]
          },
          "metadata": {},
          "execution_count": 25
        },
        {
          "output_type": "display_data",
          "data": {
            "text/plain": [
              "<Figure size 1200x600 with 1 Axes>"
            ],
            "image/png": "[encoded data removed]"
          },
          "metadata": {}
        }
      ]
    },
    {
      "cell_type": "markdown",
      "source": [
        "3. Dealing with outliers"
      ],
      "metadata": {
        "id": "rfnSOCNlOJpu"
      }
    },
    {
      "cell_type": "code",
      "source": [
        "df.info()"
      ],
      "metadata": {
        "colab": {
          "base_uri": "https://localhost:8080/"
        },
        "id": "36saXiN3O3ow",
        "outputId": "6743eae8-f768-4cc4-bbe0-56225054eae9"
      },
      "execution_count": 26,
      "outputs": [
        {
          "output_type": "stream",
          "name": "stdout",
          "text": [
            "<class 'pandas.core.frame.DataFrame'>\n",
            "Int64Index: 2597 entries, 0 to 2596\n",
            "Data columns (total 12 columns):\n",
            " #   Column           Non-Null Count  Dtype  \n",
            "---  ------           --------------  -----  \n",
            " 0   title            2597 non-null   object \n",
            " 1   studio           2595 non-null   object \n",
            " 2   domestic_gross   2576 non-null   float64\n",
            " 3   foreign_gross    2597 non-null   float64\n",
            " 4   year             2597 non-null   int64  \n",
            " 5   tconst           2597 non-null   object \n",
            " 6   original_title   2597 non-null   object \n",
            " 7   start_year       2597 non-null   float64\n",
            " 8   runtime_minutes  2560 non-null   float64\n",
            " 9   genres           2593 non-null   object \n",
            " 10  averagerating    2597 non-null   float64\n",
            " 11  numvotes         2597 non-null   int64  \n",
            "dtypes: float64(5), int64(2), object(5)\n",
            "memory usage: 263.8+ KB\n"
          ]
        }
      ]
    },
    {
      "cell_type": "code",
      "source": [
        "# Check for outliers using box plots\n",
        "\n",
        "# First we identify the outliers by using box plots\n",
        "# domestic_gross column\n",
        "plt.figure(figsize=(8, 6))\n",
        "sns.boxplot(x=df['domestic_gross'], color='skyblue')\n",
        "plt.title('Box Plot of Domestic gross income')\n",
        "plt.show()\n",
        "\n",
        "# foreign_gross column\n",
        "plt.figure(figsize=(8, 6))\n",
        "sns.boxplot(x=df['foreign_gross'], color='skyblue')\n",
        "plt.title('Box Plot of foreign_gross')\n",
        "plt.show()\n",
        "\n",
        "# start_year column\n",
        "plt.figure(figsize=(8, 6))\n",
        "sns.boxplot(x=df['start_year'], color='skyblue')\n",
        "plt.title('Box Plot of start_year')\n",
        "plt.show()\n",
        "\n",
        "# runtime_minutes column\n",
        "plt.figure(figsize=(8, 6))\n",
        "sns.boxplot(x=df['runtime_minutes'], color='skyblue')\n",
        "plt.title('Box Plot of runtime_minutes')\n",
        "plt.show()\n",
        "\n",
        "# averagerating column\n",
        "plt.figure(figsize=(8, 6))\n",
        "sns.boxplot(x=df['averagerating'], color='skyblue')\n",
        "plt.title('Box Plot of averagerating')\n",
        "plt.show()"
      ],
      "metadata": {
        "colab": {
          "base_uri": "https://localhost:8080/",
          "height": 1000
        },
        "id": "S40IRl1-OMEb",
        "outputId": "eb23f1a1-4eff-4e04-9bb3-f02ddb7ced1e"
      },
      "execution_count": 27,
      "outputs": [
        {
          "output_type": "display_data",
          "data": {
            "text/plain": [
              "<Figure size 800x600 with 1 Axes>"
            ],
            "image/png": "[encoded data removed]"
          },
          "metadata": {}
        },
        {
          "output_type": "display_data",
          "data": {
            "text/plain": [
              "<Figure size 800x600 with 1 Axes>"
            ],
            "image/png": "[encoded data removed]"
          },
          "metadata": {}
        },
        {
          "output_type": "display_data",
          "data": {
            "text/plain": [
              "<Figure size 800x600 with 1 Axes>"
            ],
            "image/png": "[encoded data removed]"
          },
          "metadata": {}
        },
        {
          "output_type": "display_data",
          "data": {
            "text/plain": [
              "<Figure size 800x600 with 1 Axes>"
            ],
            "image/png": "[encoded data removed]"
          },
          "metadata": {}
        },
        {
          "output_type": "display_data",
          "data": {
            "text/plain": [
              "<Figure size 800x600 with 1 Axes>"
            ],
            "image/png": "[encoded data removed]"
          },
          "metadata": {}
        }
      ]
    },
    {
      "cell_type": "markdown",
      "source": [
        "Although there are outliers visualized above, the context within which this data is collected is important. Movies that are doing better than average in terms of income and ratings are worth noting. This is valuable information that should be kept as part of the analysis.\n",
        "There is one outlier in run time that is isolated and likely to alter the analysis."
      ],
      "metadata": {
        "id": "uPy8HbK3Qdqo"
      }
    },
    {
      "cell_type": "code",
      "source": [
        "# Dealing with outliers\n",
        "# cap run time outliers\n",
        "\n",
        "# Calculate IQR for the 'run time' column\n",
        "Q1 = df['runtime_minutes'].quantile(0.25)\n",
        "Q3 = df['runtime_minutes'].quantile(0.75)\n",
        "IQR = Q3 - Q1\n",
        "\n",
        "# Define the upper and lower bounds to identify outliers\n",
        "lower_bound = Q1 - 1.5 * IQR\n",
        "upper_bound = Q3 + 1.5 * IQR\n",
        "\n",
        "# Identify outliers\n",
        "outliers = df[(df['runtime_minutes'] < lower_bound) | (df['runtime_minutes'] > upper_bound)]\n",
        "\n",
        "# Capping outliers to the upper and lower bounds\n",
        "df['runtime_minutes'] = df['runtime_minutes'].clip(lower=lower_bound, upper=upper_bound)"
      ],
      "metadata": {
        "id": "yEb7tnERQEsi"
      },
      "execution_count": 28,
      "outputs": []
    },
    {
      "cell_type": "code",
      "source": [
        "# runtime_minutes column after removing outliers\n",
        "plt.figure(figsize=(8, 6))\n",
        "sns.boxplot(x=df['runtime_minutes'], color='skyblue')\n",
        "plt.title('Box Plot of runtime_minutes without outliers')\n",
        "plt.show()"
      ],
      "metadata": {
        "colab": {
          "base_uri": "https://localhost:8080/",
          "height": 564
        },
        "id": "qnf5A2aEVIba",
        "outputId": "bfc293c8-f694-49f3-dc62-be2f769f4095"
      },
      "execution_count": 29,
      "outputs": [
        {
          "output_type": "display_data",
          "data": {
            "text/plain": [
              "<Figure size 800x600 with 1 Axes>"
            ],
            "image/png": "[encoded data removed]"
          },
          "metadata": {}
        }
      ]
    },
    {
      "cell_type": "markdown",
      "source": [
        "4. Check for and remove duplicates"
      ],
      "metadata": {
        "id": "6cnMtv1jVuRQ"
      }
    },
    {
      "cell_type": "code",
      "source": [
        "# Check for duplicate rows\n",
        "print(df[df.duplicated()])"
      ],
      "metadata": {
        "colab": {
          "base_uri": "https://localhost:8080/"
        },
        "id": "YSi6S7VsVyKn",
        "outputId": "5a7706e7-74f9-4159-8a2d-8a29327092af"
      },
      "execution_count": 30,
      "outputs": [
        {
          "output_type": "stream",
          "name": "stdout",
          "text": [
            "Empty DataFrame\n",
            "Columns: [title, studio, domestic_gross, foreign_gross, year, tconst, original_title, start_year, runtime_minutes, genres, averagerating, numvotes]\n",
            "Index: []\n"
          ]
        }
      ]
    },
    {
      "cell_type": "markdown",
      "source": [
        "There are no duplicates"
      ],
      "metadata": {
        "id": "j07QciGIWXqi"
      }
    },
    {
      "cell_type": "markdown",
      "source": [
        "**EXPLORATORY DATA ANALYSIS**"
      ],
      "metadata": {
        "id": "6YFPXcRJXKMV"
      }
    },
    {
      "cell_type": "code",
      "source": [
        "#generate descriptive statistics for numerical variables\n",
        "df.describe()"
      ],
      "metadata": {
        "colab": {
          "base_uri": "https://localhost:8080/",
          "height": 300
        },
        "id": "8jp5dzulVRco",
        "outputId": "eb216580-f087-4967-a69d-dee6ddd54260"
      },
      "execution_count": 31,
      "outputs": [
        {
          "output_type": "execute_result",
          "data": {
            "text/plain": [
              "       domestic_gross  foreign_gross         year   start_year  \\\n",
              "count    2.576000e+03   2.597000e+03  2597.000000  2597.000000   \n",
              "mean     3.292019e+07   5.742647e+07  2013.699653  2013.243743   \n",
              "std      7.008290e+07   1.146123e+08     2.272781     2.209441   \n",
              "min      1.000000e+02   6.000000e+02  2010.000000  2010.000000   \n",
              "25%      1.510000e+05   1.240000e+07  2012.000000  2011.000000   \n",
              "50%      2.600000e+06   2.130000e+07  2014.000000  2013.000000   \n",
              "75%      3.540000e+07   3.660000e+07  2016.000000  2015.000000   \n",
              "max      7.001000e+08   9.464000e+08  2018.000000  2019.000000   \n",
              "\n",
              "       runtime_minutes  averagerating      numvotes  \n",
              "count      2560.000000    2597.000000  2.597000e+03  \n",
              "mean        106.716406       6.452214  6.902101e+04  \n",
              "std          18.603282       0.987042  1.328612e+05  \n",
              "min          58.000000       1.600000  5.000000e+00  \n",
              "25%          94.000000       5.900000  3.231000e+03  \n",
              "50%         104.000000       6.500000  1.705500e+04  \n",
              "75%         118.000000       7.100000  7.432900e+04  \n",
              "max         154.000000       9.200000  1.841066e+06  "
            ],
            "text/html": [
              "\n",
              "  <div id=\"df-228ef793-968d-4f6a-907d-46068483e486\" class=\"colab-df-container\">\n",
              "    <div>\n",
              "<style scoped>\n",
              "    .dataframe tbody tr th:only-of-type {\n",
              "        vertical-align: middle;\n",
              "    }\n",
              "\n",
              "    .dataframe tbody tr th {\n",
              "        vertical-align: top;\n",
              "    }\n",
              "\n",
              "    .dataframe thead th {\n",
              "        text-align: right;\n",
              "    }\n",
              "</style>\n",
              "<table border=\"1\" class=\"dataframe\">\n",
              "  <thead>\n",
              "    <tr style=\"text-align: right;\">\n",
              "      <th></th>\n",
              "      <th>domestic_gross</th>\n",
              "      <th>foreign_gross</th>\n",
              "      <th>year</th>\n",
              "      <th>start_year</th>\n",
              "      <th>runtime_minutes</th>\n",
              "      <th>averagerating</th>\n",
              "      <th>numvotes</th>\n",
              "    </tr>\n",
              "  </thead>\n",
              "  <tbody>\n",
              "    <tr>\n",
              "      <th>count</th>\n",
              "      <td>2.576000e+03</td>\n",
              "      <td>2.597000e+03</td>\n",
              "      <td>2597.000000</td>\n",
              "      <td>2597.000000</td>\n",
              "      <td>2560.000000</td>\n",
              "      <td>2597.000000</td>\n",
              "      <td>2.597000e+03</td>\n",
              "    </tr>\n",
              "    <tr>\n",
              "      <th>mean</th>\n",
              "      <td>3.292019e+07</td>\n",
              "      <td>5.742647e+07</td>\n",
              "      <td>2013.699653</td>\n",
              "      <td>2013.243743</td>\n",
              "      <td>106.716406</td>\n",
              "      <td>6.452214</td>\n",
              "      <td>6.902101e+04</td>\n",
              "    </tr>\n",
              "    <tr>\n",
              "      <th>std</th>\n",
              "      <td>7.008290e+07</td>\n",
              "      <td>1.146123e+08</td>\n",
              "      <td>2.272781</td>\n",
              "      <td>2.209441</td>\n",
              "      <td>18.603282</td>\n",
              "      <td>0.987042</td>\n",
              "      <td>1.328612e+05</td>\n",
              "    </tr>\n",
              "    <tr>\n",
              "      <th>min</th>\n",
              "      <td>1.000000e+02</td>\n",
              "      <td>6.000000e+02</td>\n",
              "      <td>2010.000000</td>\n",
              "      <td>2010.000000</td>\n",
              "      <td>58.000000</td>\n",
              "      <td>1.600000</td>\n",
              "      <td>5.000000e+00</td>\n",
              "    </tr>\n",
              "    <tr>\n",
              "      <th>25%</th>\n",
              "      <td>1.510000e+05</td>\n",
              "      <td>1.240000e+07</td>\n",
              "      <td>2012.000000</td>\n",
              "      <td>2011.000000</td>\n",
              "      <td>94.000000</td>\n",
              "      <td>5.900000</td>\n",
              "      <td>3.231000e+03</td>\n",
              "    </tr>\n",
              "    <tr>\n",
              "      <th>50%</th>\n",
              "      <td>2.600000e+06</td>\n",
              "      <td>2.130000e+07</td>\n",
              "      <td>2014.000000</td>\n",
              "      <td>2013.000000</td>\n",
              "      <td>104.000000</td>\n",
              "      <td>6.500000</td>\n",
              "      <td>1.705500e+04</td>\n",
              "    </tr>\n",
              "    <tr>\n",
              "      <th>75%</th>\n",
              "      <td>3.540000e+07</td>\n",
              "      <td>3.660000e+07</td>\n",
              "      <td>2016.000000</td>\n",
              "      <td>2015.000000</td>\n",
              "      <td>118.000000</td>\n",
              "      <td>7.100000</td>\n",
              "      <td>7.432900e+04</td>\n",
              "    </tr>\n",
              "    <tr>\n",
              "      <th>max</th>\n",
              "      <td>7.001000e+08</td>\n",
              "      <td>9.464000e+08</td>\n",
              "      <td>2018.000000</td>\n",
              "      <td>2019.000000</td>\n",
              "      <td>154.000000</td>\n",
              "      <td>9.200000</td>\n",
              "      <td>1.841066e+06</td>\n",
              "    </tr>\n",
              "  </tbody>\n",
              "</table>\n",
              "</div>\n",
              "    <div class=\"colab-df-buttons\">\n",
              "\n",
              "  <div class=\"colab-df-container\">\n",
              "    <button class=\"colab-df-convert\" onclick=\"convertToInteractive('df-228ef793-968d-4f6a-907d-46068483e486')\"\n",
              "            title=\"Convert this dataframe to an interactive table.\"\n",
              "            style=\"display:none;\">\n",
              "\n",
              "  <svg xmlns=\"http://www.w3.org/2000/svg\" height=\"24px\" viewBox=\"0 -960 960 960\">\n",
              "    <path d=\"M120-120v-720h720v720H120Zm60-500h600v-160H180v160Zm220 220h160v-160H400v160Zm0 220h160v-160H400v160ZM180-400h160v-160H180v160Zm440 0h160v-160H620v160ZM180-180h160v-160H180v160Zm440 0h160v-160H620v160Z\"/>\n",
              "  </svg>\n",
              "    </button>\n",
              "\n",
              "  <style>\n",
              "    .colab-df-container {\n",
              "      display:flex;\n",
              "      gap: 12px;\n",
              "    }\n",
              "\n",
              "    .colab-df-convert {\n",
              "      background-color: #E8F0FE;\n",
              "      border: none;\n",
              "      border-radius: 50%;\n",
              "      cursor: pointer;\n",
              "      display: none;\n",
              "      fill: #1967D2;\n",
              "      height: 32px;\n",
              "      padding: 0 0 0 0;\n",
              "      width: 32px;\n",
              "    }\n",
              "\n",
              "    .colab-df-convert:hover {\n",
              "      background-color: #E2EBFA;\n",
              "      box-shadow: 0px 1px 2px rgba(60, 64, 67, 0.3), 0px 1px 3px 1px rgba(60, 64, 67, 0.15);\n",
              "      fill: #174EA6;\n",
              "    }\n",
              "\n",
              "    .colab-df-buttons div {\n",
              "      margin-bottom: 4px;\n",
              "    }\n",
              "\n",
              "    [theme=dark] .colab-df-convert {\n",
              "      background-color: #3B4455;\n",
              "      fill: #D2E3FC;\n",
              "    }\n",
              "\n",
              "    [theme=dark] .colab-df-convert:hover {\n",
              "      background-color: #434B5C;\n",
              "      box-shadow: 0px 1px 3px 1px rgba(0, 0, 0, 0.15);\n",
              "      filter: drop-shadow(0px 1px 2px rgba(0, 0, 0, 0.3));\n",
              "      fill: #FFFFFF;\n",
              "    }\n",
              "  </style>\n",
              "\n",
              "    <script>\n",
              "      const buttonEl =\n",
              "        document.querySelector('#df-228ef793-968d-4f6a-907d-46068483e486 button.colab-df-convert');\n",
              "      buttonEl.style.display =\n",
              "        google.colab.kernel.accessAllowed ? 'block' : 'none';\n",
              "\n",
              "      async function convertToInteractive(key) {\n",
              "        const element = document.querySelector('#df-228ef793-968d-4f6a-907d-46068483e486');\n",
              "        const dataTable =\n",
              "          await google.colab.kernel.invokeFunction('convertToInteractive',\n",
              "                                                    [key], {});\n",
              "        if (!dataTable) return;\n",
              "\n",
              "        const docLinkHtml = 'Like what you see? Visit the ' +\n",
              "          '<a target=\"_blank\" href=https://colab.research.google.com/notebooks/data_table.ipynb>data table notebook</a>'\n",
              "          + ' to learn more about interactive tables.';\n",
              "        element.innerHTML = '';\n",
              "        dataTable['output_type'] = 'display_data';\n",
              "        await google.colab.output.renderOutput(dataTable, element);\n",
              "        const docLink = document.createElement('div');\n",
              "        docLink.innerHTML = docLinkHtml;\n",
              "        element.appendChild(docLink);\n",
              "      }\n",
              "    </script>\n",
              "  </div>\n",
              "\n",
              "\n",
              "<div id=\"df-5c4567ca-858e-4996-9ea6-5966b5d2a508\">\n",
              "  <button class=\"colab-df-quickchart\" onclick=\"quickchart('df-5c4567ca-858e-4996-9ea6-5966b5d2a508')\"\n",
              "            title=\"Suggest charts\"\n",
              "            style=\"display:none;\">\n",
              "\n",
              "<svg xmlns=\"http://www.w3.org/2000/svg\" height=\"24px\"viewBox=\"0 0 24 24\"\n",
              "     width=\"24px\">\n",
              "    <g>\n",
              "        <path d=\"M19 3H5c-1.1 0-2 .9-2 2v14c0 1.1.9 2 2 2h14c1.1 0 2-.9 2-2V5c0-1.1-.9-2-2-2zM9 17H7v-7h2v7zm4 0h-2V7h2v10zm4 0h-2v-4h2v4z\"/>\n",
              "    </g>\n",
              "</svg>\n",
              "  </button>\n",
              "\n",
              "<style>\n",
              "  .colab-df-quickchart {\n",
              "      --bg-color: #E8F0FE;\n",
              "      --fill-color: #1967D2;\n",
              "      --hover-bg-color: #E2EBFA;\n",
              "      --hover-fill-color: #174EA6;\n",
              "      --disabled-fill-color: #AAA;\n",
              "      --disabled-bg-color: #DDD;\n",
              "  }\n",
              "\n",
              "  [theme=dark] .colab-df-quickchart {\n",
              "      --bg-color: #3B4455;\n",
              "      --fill-color: #D2E3FC;\n",
              "      --hover-bg-color: #434B5C;\n",
              "      --hover-fill-color: #FFFFFF;\n",
              "      --disabled-bg-color: #3B4455;\n",
              "      --disabled-fill-color: #666;\n",
              "  }\n",
              "\n",
              "  .colab-df-quickchart {\n",
              "    background-color: var(--bg-color);\n",
              "    border: none;\n",
              "    border-radius: 50%;\n",
              "    cursor: pointer;\n",
              "    display: none;\n",
              "    fill: var(--fill-color);\n",
              "    height: 32px;\n",
              "    padding: 0;\n",
              "    width: 32px;\n",
              "  }\n",
              "\n",
              "  .colab-df-quickchart:hover {\n",
              "    background-color: var(--hover-bg-color);\n",
              "    box-shadow: 0 1px 2px rgba(60, 64, 67, 0.3), 0 1px 3px 1px rgba(60, 64, 67, 0.15);\n",
              "    fill: var(--button-hover-fill-color);\n",
              "  }\n",
              "\n",
              "  .colab-df-quickchart-complete:disabled,\n",
              "  .colab-df-quickchart-complete:disabled:hover {\n",
              "    background-color: var(--disabled-bg-color);\n",
              "    fill: var(--disabled-fill-color);\n",
              "    box-shadow: none;\n",
              "  }\n",
              "\n",
              "  .colab-df-spinner {\n",
              "    border: 2px solid var(--fill-color);\n",
              "    border-color: transparent;\n",
              "    border-bottom-color: var(--fill-color);\n",
              "    animation:\n",
              "      spin 1s steps(1) infinite;\n",
              "  }\n",
              "\n",
              "  @keyframes spin {\n",
              "    0% {\n",
              "      border-color: transparent;\n",
              "      border-bottom-color: var(--fill-color);\n",
              "      border-left-color: var(--fill-color);\n",
              "    }\n",
              "    20% {\n",
              "      border-color: transparent;\n",
              "      border-left-color: var(--fill-color);\n",
              "      border-top-color: var(--fill-color);\n",
              "    }\n",
              "    30% {\n",
              "      border-color: transparent;\n",
              "      border-left-color: var(--fill-color);\n",
              "      border-top-color: var(--fill-color);\n",
              "      border-right-color: var(--fill-color);\n",
              "    }\n",
              "    40% {\n",
              "      border-color: transparent;\n",
              "      border-right-color: var(--fill-color);\n",
              "      border-top-color: var(--fill-color);\n",
              "    }\n",
              "    60% {\n",
              "      border-color: transparent;\n",
              "      border-right-color: var(--fill-color);\n",
              "    }\n",
              "    80% {\n",
              "      border-color: transparent;\n",
              "      border-right-color: var(--fill-color);\n",
              "      border-bottom-color: var(--fill-color);\n",
              "    }\n",
              "    90% {\n",
              "      border-color: transparent;\n",
              "      border-bottom-color: var(--fill-color);\n",
              "    }\n",
              "  }\n",
              "</style>\n",
              "\n",
              "  <script>\n",
              "    async function quickchart(key) {\n",
              "      const quickchartButtonEl =\n",
              "        document.querySelector('#' + key + ' button');\n",
              "      quickchartButtonEl.disabled = true;  // To prevent multiple clicks.\n",
              "      quickchartButtonEl.classList.add('colab-df-spinner');\n",
              "      try {\n",
              "        const charts = await google.colab.kernel.invokeFunction(\n",
              "            'suggestCharts', [key], {});\n",
              "      } catch (error) {\n",
              "        console.error('Error during call to suggestCharts:', error);\n",
              "      }\n",
              "      quickchartButtonEl.classList.remove('colab-df-spinner');\n",
              "      quickchartButtonEl.classList.add('colab-df-quickchart-complete');\n",
              "    }\n",
              "    (() => {\n",
              "      let quickchartButtonEl =\n",
              "        document.querySelector('#df-5c4567ca-858e-4996-9ea6-5966b5d2a508 button');\n",
              "      quickchartButtonEl.style.display =\n",
              "        google.colab.kernel.accessAllowed ? 'block' : 'none';\n",
              "    })();\n",
              "  </script>\n",
              "</div>\n",
              "\n",
              "    </div>\n",
              "  </div>\n"
            ],
            "application/vnd.google.colaboratory.intrinsic+json": {
              "type": "dataframe",
              "summary": "{\n  \"name\": \"df\",\n  \"rows\": 8,\n  \"fields\": [\n    {\n      \"column\": \"domestic_gross\",\n      \"properties\": {\n        \"dtype\": \"number\",\n        \"std\": 241699691.59434912,\n        \"min\": 100.0,\n        \"max\": 700100000.0,\n        \"samples\": [\n          32920189.82181677,\n          2600000.0,\n          2576.0\n        ],\n        \"num_unique_values\": 8,\n        \"semantic_type\": \"\",\n        \"description\": \"\"\n      }\n    },\n    {\n      \"column\": \"foreign_gross\",\n      \"properties\": {\n        \"dtype\": \"number\",\n        \"std\": 324569013.6722029,\n        \"min\": 600.0,\n        \"max\": 946400000.0,\n        \"samples\": [\n          57426472.91024259,\n          21300000.0,\n          2597.0\n        ],\n        \"num_unique_values\": 8,\n        \"semantic_type\": \"\",\n        \"description\": \"\"\n      }\n    },\n    {\n      \"column\": \"year\",\n      \"properties\": {\n        \"dtype\": \"number\",\n        \"std\": 768.2736230849359,\n        \"min\": 2.272781405897055,\n        \"max\": 2597.0,\n        \"samples\": [\n          2013.6996534462842,\n          2014.0,\n          2597.0\n        ],\n        \"num_unique_values\": 8,\n        \"semantic_type\": \"\",\n        \"description\": \"\"\n      }\n    },\n    {\n      \"column\": \"start_year\",\n      \"properties\": {\n        \"dtype\": \"number\",\n        \"std\": 768.2147243680241,\n        \"min\": 2.2094410482814295,\n        \"max\": 2597.0,\n        \"samples\": [\n          2013.243742780131,\n          2013.0,\n          2597.0\n        ],\n        \"num_unique_values\": 8,\n        \"semantic_type\": \"\",\n        \"description\": \"\"\n      }\n    },\n    {\n      \"column\": \"runtime_minutes\",\n      \"properties\": {\n        \"dtype\": \"number\",\n        \"std\": 873.0335082743906,\n        \"min\": 18.60328214745651,\n        \"max\": 2560.0,\n        \"samples\": [\n          106.71640625,\n          104.0,\n          2560.0\n        ],\n        \"num_unique_values\": 8,\n        \"semantic_type\": \"\",\n        \"description\": \"\"\n      }\n    },\n    {\n      \"column\": \"averagerating\",\n      \"properties\": {\n        \"dtype\": \"number\",\n        \"std\": 916.2762299217029,\n        \"min\": 0.9870423534272685,\n        \"max\": 2597.0,\n        \"samples\": [\n          6.452214093184444,\n          6.5,\n          2597.0\n        ],\n        \"num_unique_values\": 8,\n        \"semantic_type\": \"\",\n        \"description\": \"\"\n      }\n    },\n    {\n      \"column\": \"numvotes\",\n      \"properties\": {\n        \"dtype\": \"number\",\n        \"std\": 637543.7777650352,\n        \"min\": 5.0,\n        \"max\": 1841066.0,\n        \"samples\": [\n          69021.01155179052,\n          17055.0,\n          2597.0\n        ],\n        \"num_unique_values\": 8,\n        \"semantic_type\": \"\",\n        \"description\": \"\"\n      }\n    }\n  ]\n}"
            }
          },
          "metadata": {},
          "execution_count": 31
        }
      ]
    },
    {
      "cell_type": "code",
      "source": [
        "# Count the number of unique genres\n",
        "num_genres = df['genres'].nunique()\n",
        "\n",
        "print(\"Number of genres:\", num_genres)"
      ],
      "metadata": {
        "colab": {
          "base_uri": "https://localhost:8080/"
        },
        "id": "-XKs4bZ3eM0b",
        "outputId": "edc6ca16-6ca3-48b2-8c30-e70b80dad968"
      },
      "execution_count": 42,
      "outputs": [
        {
          "output_type": "stream",
          "name": "stdout",
          "text": [
            "Number of genres: 302\n"
          ]
        }
      ]
    },
    {
      "cell_type": "markdown",
      "source": [
        "Group by Genres and calculate descriptive statistics of each genre"
      ],
      "metadata": {
        "id": "rT1mMFYhbboB"
      }
    },
    {
      "cell_type": "code",
      "source": [
        "# Group by 'Category' and calculate various statistics\n",
        "genre_stats = df.groupby('genres').agg({\n",
        "    'averagerating': 'mean',                # Mean rating\n",
        "    'domestic_gross': 'mean',         # mean domestic gross income\n",
        "    'foreign_gross' : 'mean',          # mean foreign_gross\n",
        "    'runtime_minutes': 'mean',      # Mean runtime\n",
        "    'numvotes':'mean'   #mean Numvotes\n",
        "})\n",
        "\n",
        "print(genre_stats)"
      ],
      "metadata": {
        "colab": {
          "base_uri": "https://localhost:8080/"
        },
        "id": "DCDpdcMcbmxH",
        "outputId": "dff6102c-18c6-45b6-c13e-54b186146f83"
      },
      "execution_count": 39,
      "outputs": [
        {
          "output_type": "stream",
          "name": "stdout",
          "text": [
            "                            averagerating  domestic_gross  foreign_gross  \\\n",
            "genres                                                                     \n",
            "Action                           6.092857    1.234291e+07   2.261429e+07   \n",
            "Action,Adventure                 5.866667    5.408333e+04   1.487450e+07   \n",
            "Action,Adventure,Animation       7.331579    1.145756e+08   2.247211e+08   \n",
            "Action,Adventure,Biography       7.133333    6.960967e+07   1.865333e+08   \n",
            "Action,Adventure,Comedy          6.277778    9.626649e+07   2.058963e+08   \n",
            "...                                   ...             ...            ...   \n",
            "Romance,Thriller                 5.850000    2.736500e+05   6.560500e+06   \n",
            "Sci-Fi                           4.200000    4.126000e+08   4.093000e+08   \n",
            "Sport                            7.900000    5.300000e+06   2.130000e+07   \n",
            "Thriller                         5.690909    2.394316e+07   4.349987e+07   \n",
            "Thriller,Western                 6.400000    2.110000e+04   3.000000e+05   \n",
            "\n",
            "                            runtime_minutes       numvotes  \n",
            "genres                                                      \n",
            "Action                           121.166667    8779.857143  \n",
            "Action,Adventure                 113.666667    4892.333333  \n",
            "Action,Adventure,Animation        98.421053  144163.105263  \n",
            "Action,Adventure,Biography       139.000000  244092.333333  \n",
            "Action,Adventure,Comedy          113.111111  187768.555556  \n",
            "...                                     ...            ...  \n",
            "Romance,Thriller                 108.500000   14547.000000  \n",
            "Sci-Fi                            60.000000      20.000000  \n",
            "Sport                            114.000000      77.000000  \n",
            "Thriller                          95.368421    1234.409091  \n",
            "Thriller,Western                  95.000000    7874.000000  \n",
            "\n",
            "[302 rows x 5 columns]\n"
          ]
        }
      ]
    },
    {
      "cell_type": "code",
      "source": [
        "\n",
        "# Find the genre with the highest and lowest values for each category\n",
        "highest_ratings = genre_stats['averagerating'].idxmax()\n",
        "lowest_ratings = genre_stats['averagerating'].idxmin()\n",
        "\n",
        "highest_domestic_gross = genre_stats['domestic_gross'].idxmax()\n",
        "lowest_domestic_gross = genre_stats['domestic_gross'].idxmin()\n",
        "\n",
        "highest_foreign_gross = genre_stats['foreign_gross'].idxmax()\n",
        "lowest_foreign_gross = genre_stats['foreign_gross'].idxmin()\n",
        "\n",
        "longest_runtime = genre_stats['runtime_minutes'].idxmax()\n",
        "shortest_runtime = genre_stats['runtime_minutes'].idxmin()\n",
        "\n",
        "most_numvotes = genre_stats['numvotes'].idxmax()\n",
        "least_numvotes = genre_stats['numvotes'].idxmin()\n",
        "\n",
        "# Print the results\n",
        "print(\"Highest average rating genre:\", highest_ratings)\n",
        "print(\"Lowest average rating genre:\", lowest_ratings)\n",
        "print(\"Genre with highest domestic gross:\", highest_domestic_gross)\n",
        "print(\"Genre with lowest domestic gross:\", lowest_domestic_gross)\n",
        "print(\"Genre with highest foreign gross:\", highest_foreign_gross)\n",
        "print(\"Genre with lowest foreign gross:\", lowest_foreign_gross)\n",
        "print(\"Genre with longest runtime:\", longest_runtime)\n",
        "print(\"Genre with shortest runtime:\", shortest_runtime)\n",
        "print(\"Genre with most numvotes:\", most_numvotes)\n",
        "print(\"Genre with least numvotes:\", least_numvotes)\n"
      ],
      "metadata": {
        "colab": {
          "base_uri": "https://localhost:8080/"
        },
        "id": "auzl7CW9d5hw",
        "outputId": "85286807-68cd-4788-9183-9e513664cad8"
      },
      "execution_count": 43,
      "outputs": [
        {
          "output_type": "stream",
          "name": "stdout",
          "text": [
            "Highest average rating genre: Adventure,Drama,Sci-Fi\n",
            "Lowest average rating genre: Comedy,Thriller\n",
            "Genre with highest domestic gross: Sci-Fi\n",
            "Genre with lowest domestic gross: Comedy,Thriller\n",
            "Genre with highest foreign gross: Adventure,Drama,Sport\n",
            "Genre with lowest foreign gross: Biography,Documentary,Thriller\n",
            "Genre with longest runtime: Action,Drama,Sport\n",
            "Genre with shortest runtime: Documentary,Drama,Romance\n",
            "Genre with most numvotes: Adventure,Drama,Sci-Fi\n",
            "Genre with least numvotes: Documentary,Drama,Romance\n"
          ]
        }
      ]
    },
    {
      "cell_type": "code",
      "source": [
        "# Find the top 5 and bottom 5 genres for each category\n",
        "top_bottom_genres = {}\n",
        "\n",
        "for column in genre_stats.columns:\n",
        "    top_bottom_genres[column] = {\n",
        "        'top_5': genre_stats[column].nlargest(5),\n",
        "        'bottom_5': genre_stats[column].nsmallest(5)\n",
        "    }\n",
        "\n",
        "# Print the results\n",
        "for category, values in top_bottom_genres.items():\n",
        "    print(f\"Category: {category}\")\n",
        "    print(\"Top 5 Genres:\")\n",
        "    print(values['top_5'])\n",
        "    print(\"\\nBottom 5 Genres:\")\n",
        "    print(values['bottom_5'])\n",
        "    print(\"\\n\")"
      ],
      "metadata": {
        "colab": {
          "base_uri": "https://localhost:8080/"
        },
        "id": "gT_e2hbDe9Ni",
        "outputId": "d00c29cc-0512-4245-d2e6-93982d65d824"
      },
      "execution_count": 44,
      "outputs": [
        {
          "output_type": "stream",
          "name": "stdout",
          "text": [
            "Category: averagerating\n",
            "Top 5 Genres:\n",
            "genres\n",
            "Adventure,Drama,Sci-Fi            8.3\n",
            "Biography,Documentary,Family      8.3\n",
            "Comedy,Documentary,Drama          8.2\n",
            "Fantasy                           8.2\n",
            "Biography,Documentary,Thriller    8.1\n",
            "Name: averagerating, dtype: float64\n",
            "\n",
            "Bottom 5 Genres:\n",
            "genres\n",
            "Comedy,Thriller           2.1\n",
            "Comedy,Family,Sci-Fi      2.6\n",
            "Drama,Mystery,Western     3.4\n",
            "Comedy,Musical,Romance    3.5\n",
            "Animation,Family          4.0\n",
            "Name: averagerating, dtype: float64\n",
            "\n",
            "\n",
            "Category: domestic_gross\n",
            "Top 5 Genres:\n",
            "genres\n",
            "Sci-Fi                     4.126000e+08\n",
            "Adventure,Drama,Sport      4.007000e+08\n",
            "Action,Adventure,Sci-Fi    2.345681e+08\n",
            "Adventure,Drama,Sci-Fi     2.082000e+08\n",
            "Documentary,Drama,Sport    2.067250e+08\n",
            "Name: domestic_gross, dtype: float64\n",
            "\n",
            "Bottom 5 Genres:\n",
            "genres\n",
            "Comedy,Thriller           800.0\n",
            "Fantasy,Thriller         1400.0\n",
            "Action,Horror,Mystery    2800.0\n",
            "Comedy,Crime,History     4800.0\n",
            "Comedy,Crime,Mystery     5000.0\n",
            "Name: domestic_gross, dtype: float64\n",
            "\n",
            "\n",
            "Category: foreign_gross\n",
            "Top 5 Genres:\n",
            "genres\n",
            "Adventure,Drama,Sport     8.757000e+08\n",
            "Adventure,Fantasy         5.111333e+08\n",
            "Fantasy,Romance           4.585000e+08\n",
            "Adventure,Drama,Sci-Fi    4.455500e+08\n",
            "Sci-Fi                    4.093000e+08\n",
            "Name: foreign_gross, dtype: float64\n",
            "\n",
            "Bottom 5 Genres:\n",
            "genres\n",
            "Biography,Documentary,Thriller    202000.0\n",
            "Documentary,Drama,Mystery         242000.0\n",
            "Thriller,Western                  300000.0\n",
            "Animation,Drama,Sci-Fi            318000.0\n",
            "Comedy,Mystery,Romance            421000.0\n",
            "Name: foreign_gross, dtype: float64\n",
            "\n",
            "\n",
            "Category: runtime_minutes\n",
            "Top 5 Genres:\n",
            "genres\n",
            "Action,Drama,Sport            154.0\n",
            "Adventure,Drama,Sci-Fi        149.0\n",
            "Action,Romance                146.0\n",
            "Action,Comedy,Musical         145.0\n",
            "Action,Adventure,Biography    139.0\n",
            "Name: runtime_minutes, dtype: float64\n",
            "\n",
            "Bottom 5 Genres:\n",
            "genres\n",
            "Documentary,Drama,Romance       58.000000\n",
            "Sci-Fi                          60.000000\n",
            "Documentary,News                65.000000\n",
            "Documentary,Drama,Family        70.333333\n",
            "Biography,Comedy,Documentary    72.000000\n",
            "Name: runtime_minutes, dtype: float64\n",
            "\n",
            "\n",
            "Category: numvotes\n",
            "Top 5 Genres:\n",
            "genres\n",
            "Adventure,Drama,Sci-Fi      989725.000000\n",
            "Mystery,Thriller            574605.000000\n",
            "Action,Sci-Fi               546284.000000\n",
            "Adventure,Mystery,Sci-Fi    538720.000000\n",
            "Action,Adventure,Sci-Fi     419616.851064\n",
            "Name: numvotes, dtype: float64\n",
            "\n",
            "Bottom 5 Genres:\n",
            "genres\n",
            "Documentary,Drama,Romance        5.0\n",
            "Documentary,Family               5.0\n",
            "Family                          12.0\n",
            "Fantasy                         12.0\n",
            "Biography,Documentary,Family    18.0\n",
            "Name: numvotes, dtype: float64\n",
            "\n",
            "\n"
          ]
        }
      ]
    },
    {
      "cell_type": "markdown",
      "source": [
        "Visualization"
      ],
      "metadata": {
        "id": "fjx9MxZngQI8"
      }
    },
    {
      "cell_type": "code",
      "source": [
        "# Create a bar plot for average rating\n",
        "plt.figure(figsize=(10, 6))\n",
        "sns.barplot(x=genre_stats['averagerating'].nlargest(10), y=genre_stats['averagerating'].nlargest(10).index, palette='viridis')\n",
        "plt.xlabel('Average Rating')\n",
        "plt.ylabel('Genre')\n",
        "plt.title('Top 10 Genres by Average Rating')\n",
        "plt.show()"
      ],
      "metadata": {
        "colab": {
          "base_uri": "https://localhost:8080/",
          "height": 655
        },
        "id": "I_lPqyIcfaho",
        "outputId": "5cf9d90a-7657-4928-a96d-7da10b955c23"
      },
      "execution_count": 45,
      "outputs": [
        {
          "output_type": "stream",
          "name": "stderr",
          "text": [
            "<ipython-input-45-4613d4dc1acf>:3: FutureWarning: \n",
            "\n",
            "Passing `palette` without assigning `hue` is deprecated and will be removed in v0.14.0. Assign the `y` variable to `hue` and set `legend=False` for the same effect.\n",
            "\n",
            "  sns.barplot(x=genre_stats['averagerating'].nlargest(10), y=genre_stats['averagerating'].nlargest(10).index, palette='viridis')\n"
          ]
        },
        {
          "output_type": "display_data",
          "data": {
            "text/plain": [
              "<Figure size 1000x600 with 1 Axes>"
            ],
            "image/png": "[encoded data removed]"
          },
          "metadata": {}
        }
      ]
    },
    {
      "cell_type": "code",
      "source": [
        "# Create a bar plot for domestic gross\n",
        "plt.figure(figsize=(10, 6))\n",
        "sns.barplot(x=genre_stats['domestic_gross'].nlargest(10), y=genre_stats['domestic_gross'].nlargest(10).index, palette='magma')\n",
        "plt.xlabel('Domestic Gross (in billions)')\n",
        "plt.ylabel('Genre')\n",
        "plt.title('Top 10 Genres by Domestic Gross')\n",
        "plt.show()"
      ],
      "metadata": {
        "colab": {
          "base_uri": "https://localhost:8080/",
          "height": 655
        },
        "id": "gJ1RnbUSgvxr",
        "outputId": "12767170-d705-410d-ee36-cdc6c99db660"
      },
      "execution_count": 46,
      "outputs": [
        {
          "output_type": "stream",
          "name": "stderr",
          "text": [
            "<ipython-input-46-f0e63f3823fe>:3: FutureWarning: \n",
            "\n",
            "Passing `palette` without assigning `hue` is deprecated and will be removed in v0.14.0. Assign the `y` variable to `hue` and set `legend=False` for the same effect.\n",
            "\n",
            "  sns.barplot(x=genre_stats['domestic_gross'].nlargest(10), y=genre_stats['domestic_gross'].nlargest(10).index, palette='magma')\n"
          ]
        },
        {
          "output_type": "display_data",
          "data": {
            "text/plain": [
              "<Figure size 1000x600 with 1 Axes>"
            ],
            "image/png": "[encoded data removed]"
          },
          "metadata": {}
        }
      ]
    },
    {
      "cell_type": "code",
      "source": [
        "# Create a bar plot for runtime minutes\n",
        "plt.figure(figsize=(10, 6))\n",
        "sns.barplot(x=genre_stats['runtime_minutes'].nlargest(10), y=genre_stats['runtime_minutes'].nlargest(10).index, palette='inferno')\n",
        "plt.xlabel('Runtime Minutes')\n",
        "plt.ylabel('Genre')\n",
        "plt.title('Top 10 Genres by Runtime')\n",
        "plt.show()"
      ],
      "metadata": {
        "colab": {
          "base_uri": "https://localhost:8080/",
          "height": 655
        },
        "id": "cMSyo9MVg3H_",
        "outputId": "626ce221-9f34-41ec-d64d-03d89205d535"
      },
      "execution_count": 48,
      "outputs": [
        {
          "output_type": "stream",
          "name": "stderr",
          "text": [
            "<ipython-input-48-49ee34da74cc>:3: FutureWarning: \n",
            "\n",
            "Passing `palette` without assigning `hue` is deprecated and will be removed in v0.14.0. Assign the `y` variable to `hue` and set `legend=False` for the same effect.\n",
            "\n",
            "  sns.barplot(x=genre_stats['runtime_minutes'].nlargest(10), y=genre_stats['runtime_minutes'].nlargest(10).index, palette='inferno')\n"
          ]
        },
        {
          "output_type": "display_data",
          "data": {
            "text/plain": [
              "<Figure size 1000x600 with 1 Axes>"
            ],
            "image/png": "[encoded data removed]"
          },
          "metadata": {}
        }
      ]
    },
    {
      "cell_type": "code",
      "source": [
        "# Create a bar plot for foreign gross\n",
        "plt.figure(figsize=(10, 6))\n",
        "sns.barplot(x=genre_stats['foreign_gross'].nlargest(10), y=genre_stats['foreign_gross'].nlargest(10).index, palette='magma')\n",
        "plt.xlabel('Foreign Gross (in billions)')\n",
        "plt.ylabel('Genre')\n",
        "plt.title('Top 10 Genres by Foreign Gross')\n",
        "plt.show()"
      ],
      "metadata": {
        "colab": {
          "base_uri": "https://localhost:8080/",
          "height": 655
        },
        "id": "vvpCjKUkCCoz",
        "outputId": "4e290026-88be-4b75-8140-9329bafbd124"
      },
      "execution_count": 64,
      "outputs": [
        {
          "output_type": "stream",
          "name": "stderr",
          "text": [
            "<ipython-input-64-eb9b5b9ff160>:3: FutureWarning: \n",
            "\n",
            "Passing `palette` without assigning `hue` is deprecated and will be removed in v0.14.0. Assign the `y` variable to `hue` and set `legend=False` for the same effect.\n",
            "\n",
            "  sns.barplot(x=genre_stats['foreign_gross'].nlargest(10), y=genre_stats['foreign_gross'].nlargest(10).index, palette='magma')\n"
          ]
        },
        {
          "output_type": "display_data",
          "data": {
            "text/plain": [
              "<Figure size 1000x600 with 1 Axes>"
            ],
            "image/png": "[encoded data removed]"
          },
          "metadata": {}
        }
      ]
    },
    {
      "cell_type": "code",
      "source": [
        "# Create a bar plot for number of votes\n",
        "plt.figure(figsize=(10, 6))\n",
        "sns.barplot(x=genre_stats['numvotes'].nlargest(10), y=genre_stats['numvotes'].nlargest(10).index, palette='cividis')\n",
        "plt.xlabel('Number of Votes')\n",
        "plt.ylabel('Genre')\n",
        "plt.title('Top 10 Genres by Number of Votes')\n",
        "plt.show()"
      ],
      "metadata": {
        "colab": {
          "base_uri": "https://localhost:8080/",
          "height": 655
        },
        "id": "PgH2CLobhDOb",
        "outputId": "4ea7142a-fb64-428b-e6a7-c01827902002"
      },
      "execution_count": 50,
      "outputs": [
        {
          "output_type": "stream",
          "name": "stderr",
          "text": [
            "<ipython-input-50-a2da794a3365>:3: FutureWarning: \n",
            "\n",
            "Passing `palette` without assigning `hue` is deprecated and will be removed in v0.14.0. Assign the `y` variable to `hue` and set `legend=False` for the same effect.\n",
            "\n",
            "  sns.barplot(x=genre_stats['numvotes'].nlargest(10), y=genre_stats['numvotes'].nlargest(10).index, palette='cividis')\n"
          ]
        },
        {
          "output_type": "display_data",
          "data": {
            "text/plain": [
              "<Figure size 1000x600 with 1 Axes>"
            ],
            "image/png": "[encoded data removed]"
          },
          "metadata": {}
        }
      ]
    },
    {
      "cell_type": "code",
      "source": [
        "# Finding out the best performing movie overall (across all categories)\n",
        "# Assign equal weight to each category\n",
        "weight_rating = 0.25\n",
        "weight_gross = 0.25\n",
        "weight_runtime = 0.25\n",
        "weight_votes = 0.25\n",
        "\n",
        "# Calculate performance metric for each movie\n",
        "df['Performance_Metric'] = (weight_rating * df['averagerating'] +\n",
        "                             weight_gross * (df['domestic_gross'] + df['foreign_gross']) / 2 +\n",
        "                             weight_runtime * df['runtime_minutes'] +\n",
        "                             weight_votes * df['numvotes'])\n",
        "\n",
        "# Rank movies based on performance metric\n",
        "ranked_movies = df.sort_values(by='Performance_Metric', ascending=False)\n",
        "\n",
        "# Select the top-performing movie\n",
        "best_performing_movie = ranked_movies.iloc[0]\n",
        "\n",
        "# Print the best-performing movie\n",
        "# Print the best-performing movie\n",
        "# Print the best-performing movie's performance metric\n",
        "print(\"Best Performing Movie:\")\n",
        "print(best_performing_movie[['title', 'Performance_Metric']])"
      ],
      "metadata": {
        "colab": {
          "base_uri": "https://localhost:8080/"
        },
        "id": "tuQwROZ4wj-Q",
        "outputId": "520999f6-a3a6-45a1-af4c-4f5c9cb6ee52"
      },
      "execution_count": 60,
      "outputs": [
        {
          "output_type": "stream",
          "name": "stdout",
          "text": [
            "Best Performing Movie:\n",
            "title                 Avengers: Age of Ultron\n",
            "Performance_Metric              175841435.575\n",
            "Name: 1554, dtype: object\n"
          ]
        }
      ]
    },
    {
      "cell_type": "code",
      "source": [
        "# Group by genre and calculate the mean performance metric for each genre\n",
        "genre_performance = df.groupby('genres')['Performance_Metric'].mean()\n",
        "\n",
        "# Find the genre with the highest mean performance metric\n",
        "best_genre = genre_performance.idxmax()\n",
        "best_genre_performance = genre_performance.max()\n",
        "\n",
        "# Print the best performing genre and its performance metric\n",
        "print(f\"Best Performing Genre: {best_genre}\")\n",
        "print(f\"Performance Metric: {best_genre_performance}\")"
      ],
      "metadata": {
        "colab": {
          "base_uri": "https://localhost:8080/"
        },
        "id": "XMUcndT3yh3G",
        "outputId": "00b0987b-3197-4002-bbab-da124c832b08"
      },
      "execution_count": 61,
      "outputs": [
        {
          "output_type": "stream",
          "name": "stdout",
          "text": [
            "Best Performing Genre: Adventure,Drama,Sport\n",
            "Performance Metric: 159565602.55\n"
          ]
        }
      ]
    },
    {
      "cell_type": "code",
      "source": [
        "#Finding the top 5 performing genres overall\n",
        "# Sort the genres by their mean performance metric in descending order and select the top 5\n",
        "top_5_genres = genre_performance.nlargest(5)\n",
        "\n",
        "# Print the top 5 performing genres and their metrics\n",
        "print(\"Top 5 Performing Genres:\")\n",
        "for genre, metric in top_5_genres.items():\n",
        "    print(f\"Genre: {genre}, Performance Metric: {metric}\")"
      ],
      "metadata": {
        "colab": {
          "base_uri": "https://localhost:8080/"
        },
        "id": "RGv5m7IUyzB9",
        "outputId": "f16945d2-17a2-415f-f864-7bc5052c7ebe"
      },
      "execution_count": 62,
      "outputs": [
        {
          "output_type": "stream",
          "name": "stdout",
          "text": [
            "Top 5 Performing Genres:\n",
            "Genre: Adventure,Drama,Sport, Performance Metric: 159565602.55\n",
            "Genre: Sci-Fi, Performance Metric: 102737521.05\n",
            "Genre: Adventure,Fantasy, Performance Metric: 88098145.33333333\n",
            "Genre: Fantasy,Romance, Performance Metric: 82378432.35\n",
            "Genre: Adventure,Drama,Sci-Fi, Performance Metric: 81966220.575\n"
          ]
        }
      ]
    },
    {
      "cell_type": "code",
      "source": [
        "# Create a bar plot for the top 5 performing genres\n",
        "plt.figure(figsize=(10, 6))\n",
        "sns.barplot(x=top_5_genres.values, y=top_5_genres.index, palette='viridis')\n",
        "plt.xlabel('Performance Metric')\n",
        "plt.ylabel('Genre')\n",
        "plt.title('Top 5 Performing Genres Overall')\n",
        "plt.show()\n"
      ],
      "metadata": {
        "colab": {
          "base_uri": "https://localhost:8080/",
          "height": 655
        },
        "id": "TqFnBaGG02AN",
        "outputId": "8e131756-68b0-4890-ba33-0a4cf9615fef"
      },
      "execution_count": 63,
      "outputs": [
        {
          "output_type": "stream",
          "name": "stderr",
          "text": [
            "<ipython-input-63-6f6184584fca>:3: FutureWarning: \n",
            "\n",
            "Passing `palette` without assigning `hue` is deprecated and will be removed in v0.14.0. Assign the `y` variable to `hue` and set `legend=False` for the same effect.\n",
            "\n",
            "  sns.barplot(x=top_5_genres.values, y=top_5_genres.index, palette='viridis')\n"
          ]
        },
        {
          "output_type": "display_data",
          "data": {
            "text/plain": [
              "<Figure size 1000x600 with 1 Axes>"
            ],
            "image/png": "[encoded data removed]"
          },
          "metadata": {}
        }
      ]
    },
    {
      "cell_type": "markdown",
      "source": [
        "CORRELATION ANALYSIS"
      ],
      "metadata": {
        "id": "lO3otmE0ntC-"
      }
    },
    {
      "cell_type": "code",
      "source": [
        "# Select numerical columns for correlation analysis\n",
        "numerical_cols = ['averagerating', 'domestic_gross', 'foreign_gross', 'runtime_minutes', 'numvotes']\n",
        "\n",
        "# Calculate correlation matrix\n",
        "correlation_matrix = df[numerical_cols].corr()\n",
        "\n",
        "# Create a heatmap to visualize the correlation matrix\n",
        "plt.figure(figsize=(6, 4))\n",
        "sns.heatmap(correlation_matrix, annot=True, cmap='coolwarm', fmt=\".2f\", linewidths=0.5)\n",
        "plt.title('Correlation Matrix of Movie Attributes')\n",
        "plt.show()"
      ],
      "metadata": {
        "colab": {
          "base_uri": "https://localhost:8080/",
          "height": 494
        },
        "id": "wzbf4-MihcQu",
        "outputId": "5e321c74-ad15-4a34-b44a-41681db032e3"
      },
      "execution_count": 53,
      "outputs": [
        {
          "output_type": "display_data",
          "data": {
            "text/plain": [
              "<Figure size 600x400 with 2 Axes>"
            ],
            "image/png": "[encoded data removed]"
          },
          "metadata": {}
        }
      ]
    },
    {
      "cell_type": "markdown",
      "source": [
        "**SUMMARY AND INSIGHTS**"
      ],
      "metadata": {
        "id": "RRLW87ldssbg"
      }
    },
    {
      "cell_type": "markdown",
      "source": [
        "  The top genre of movies by average rating are (Adventure, Drama, Scifi) and\n",
        "  (Biography, Documentaries, Family) which both have an average rating of 8.3\n",
        "\n",
        "  The top genre by domestic gross income is Sci-Fi\n",
        "\n",
        "  The top genre by foreign gross is Adventure, drama, sport\n",
        "\n",
        "  The top genre by number of votes is Adventure, drama, sci-fi\n",
        "\n",
        "  The top genre by run time is Action, Drama, Sport\n",
        "\n",
        "  Overall the top performing genre is adventure, drama, sport\n",
        "\n",
        "  There is a positive correlation between number of votes and gross income\n",
        "\n",
        "  **Insight**\n",
        "\n",
        "  Microsoft should consider making movies in the Adventure, drama, sport genre.\n",
        "\n"
      ],
      "metadata": {
        "id": "r2Of6haEv_Z3"
      }
    },
    {
      "cell_type": "code",
      "source": [],
      "metadata": {
        "id": "RNMW-ey8rAwh"
      },
      "execution_count": null,
      "outputs": []
    }
  ]
}